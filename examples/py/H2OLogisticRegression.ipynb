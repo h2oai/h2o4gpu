{
 "cells": [
  {
   "cell_type": "code",
   "execution_count": 1,
   "metadata": {
    "collapsed": true
   },
   "outputs": [],
   "source": [
    "import h2o4gpu\n",
    "import time\n",
    "import sys\n",
    "import os\n",
    "import feather\n",
    "import numpy as np\n",
    "import pandas as pd\n",
    "import sklearn"
   ]
  },
  {
   "cell_type": "code",
   "execution_count": 2,
   "metadata": {
    "collapsed": true
   },
   "outputs": [],
   "source": [
    "#Can import data using pandas or feather.\n",
    "use_pandas = False\n",
    "\n",
    "#Path to data\n",
    "if use_pandas:\n",
    "    data_file = \"../../data/creditcard.csv\" #If importing using pandas\n",
    "else:\n",
    "    data_file = \"../../data/credit.feather\"\n",
    "\n",
    "#Fraction to split validation set by\n",
    "valid_fraction = 0.2\n",
    "\n",
    "#Set up parameters for GPU GLM\n",
    "intercept = True #Define if intercept should be used or not\n",
    "lambda_min_ratio = 1e-9 #Minimum lambda used in lambda search. Default is 1e-7.\n",
    "n_folds = 5 #Number of CV folds\n",
    "n_lambdas = 20 #Number of lambdas to search from min lambda to lambda max\n",
    "n_alphas = 3 #Number of alphas to search from min alpha to alpha max\n",
    "give_full_path = 0 #Give full path of search?\n",
    "n_gpus = 1 #Number of gpus to use\n",
    "verbose = 0 #Show logging of solver processes?"
   ]
  },
  {
   "cell_type": "code",
   "execution_count": 3,
   "metadata": {
    "collapsed": true
   },
   "outputs": [],
   "source": [
    "#Util to calculate logloss & rmse\n",
    "\n",
    "def ll(actual, predicted):\n",
    "    \"\"\"\n",
    "    Computes the log likelihood.\n",
    "    This function computes the log likelihood between two numbers,\n",
    "    or for element between a pair of lists or numpy arrays.\n",
    "    Parameters\n",
    "    ----------\n",
    "    actual : int, float, list of numbers, numpy array\n",
    "             The ground truth value\n",
    "    predicted : same type as actual\n",
    "                The predicted value\n",
    "    Returns\n",
    "    -------\n",
    "    score : double or list of doubles\n",
    "            The log likelihood error between actual and predicted\n",
    "    \"\"\"\n",
    "    actual = np.array(actual)\n",
    "    predicted = np.array(predicted)\n",
    "    for i in range(0,predicted.shape[0]):\n",
    "        predicted[i] = min(max(1e-15,predicted[i]),1-1e-15)\n",
    "    err = np.seterr(all='ignore')\n",
    "    score = -(actual*np.log(predicted)+(1-actual)*np.log(1-predicted))\n",
    "    np.seterr(divide=err['divide'], over=err['over'],\n",
    "              under=err['under'], invalid=err['invalid'])\n",
    "    if type(score)==np.ndarray:\n",
    "        score[np.isnan(score)] = 0\n",
    "    else:\n",
    "        if np.isnan(score):\n",
    "            score = 0\n",
    "    return score\n",
    "\n",
    "def log_loss(actual, predicted):\n",
    "    \"\"\"\n",
    "    Computes the log loss.\n",
    "    This function computes the log loss between two lists\n",
    "    of numbers.\n",
    "    Parameters\n",
    "    ----------\n",
    "    actual : list of numbers, numpy array\n",
    "             The ground truth value\n",
    "    predicted : same type as actual\n",
    "                The predicted value\n",
    "    Returns\n",
    "    -------\n",
    "    score : double\n",
    "            The log loss between actual and predicted\n",
    "    \"\"\"\n",
    "    return np.mean(ll(actual, predicted))\n",
    "\n",
    "def se(actual, predicted):\n",
    "    \"\"\"\n",
    "    Computes the squared error.\n",
    "    This function computes the squared error between two numbers,\n",
    "    or for element between a pair of lists or numpy arrays.\n",
    "    Parameters\n",
    "    ----------\n",
    "    actual : int, float, list of numbers, numpy array\n",
    "             The ground truth value\n",
    "    predicted : same type as actual\n",
    "                The predicted value\n",
    "    Returns\n",
    "    -------\n",
    "    score : double or list of doubles\n",
    "            The squared error between actual and predicted\n",
    "    \"\"\"\n",
    "    return np.power(np.array(actual)-np.array(predicted), 2)\n",
    "\n",
    "def mse(actual, predicted):\n",
    "    \"\"\"\n",
    "    Computes the mean squared error.\n",
    "    This function computes the mean squared error between two lists\n",
    "    of numbers.\n",
    "    Parameters\n",
    "    ----------\n",
    "    actual : list of numbers, numpy array\n",
    "             The ground truth value\n",
    "    predicted : same type as actual\n",
    "                The predicted value\n",
    "    Returns\n",
    "    -------\n",
    "    score : double\n",
    "            The mean squared error between actual and predicted\n",
    "    \"\"\"\n",
    "    return np.mean(se(actual, predicted))\n",
    "\n",
    "def rmse(actual, predicted):\n",
    "    \"\"\"\n",
    "    Computes the root mean squared error.\n",
    "    This function computes the root mean squared error between two lists\n",
    "    of numbers.\n",
    "    Parameters\n",
    "    ----------\n",
    "    actual : list of numbers, numpy array\n",
    "             The ground truth value\n",
    "    predicted : same type as actual\n",
    "                The predicted value\n",
    "    Returns\n",
    "    -------\n",
    "    score : double\n",
    "            The root mean squared error between actual and predicted\n",
    "    \"\"\"\n",
    "    return np.sqrt(mse(actual, predicted))"
   ]
  },
  {
   "cell_type": "code",
   "execution_count": 4,
   "metadata": {},
   "outputs": [
    {
     "name": "stdout",
     "output_type": "stream",
     "text": [
      "Reading Data with Feather\n",
      "(23999, 25)\n"
     ]
    }
   ],
   "source": [
    "if use_pandas:\n",
    "    print(\"Reading Data with Pandas\")\n",
    "    data = pd.read_csv(data_file)\n",
    "else:\n",
    "    print(\"Reading Data with Feather\")\n",
    "    data = feather.read_dataframe(data_file)\n",
    "print(data.shape)\n",
    "data_x = np.array(data.iloc[:, :data.shape[1] - 1], dtype='float32', order='C')\n",
    "data_y = np.array(data.iloc[:, data.shape[1] - 1], dtype='float32', order='C')"
   ]
  },
  {
   "cell_type": "code",
   "execution_count": 5,
   "metadata": {},
   "outputs": [
    {
     "name": "stdout",
     "output_type": "stream",
     "text": [
      "Original m=23999 n=24\n",
      "Size of Train rows=19200 & valid rows=4799\n",
      "Size of Train cols=24 valid cols=24\n",
      "Size of Train cols=25 & valid cols=25 after adding intercept column\n"
     ]
    }
   ],
   "source": [
    "#Setup train/validation set split (assuming form of mxn where m=row count and n=col count)\n",
    "morig = data_x.shape[0]\n",
    "norig = data_x.shape[1]\n",
    "print(\"Original m=%d n=%d\" % (morig, norig))\n",
    "sys.stdout.flush()\n",
    "\n",
    "#Do train/valid split\n",
    "valid_fraction = valid_fraction\n",
    "HO = int(valid_fraction * morig)\n",
    "H = morig - HO\n",
    "print(\"Size of Train rows=%d & valid rows=%d\" % (H, HO))\n",
    "sys.stdout.flush()\n",
    "train_x = np.copy(data_x[0:H, :])\n",
    "train_y = np.copy(data_y[0:H])\n",
    "valid_x = np.copy(data_x[H:morig, :])\n",
    "valid_y = np.copy(data_y[H:morig])\n",
    "print(\"Size of Train cols=%d valid cols=%d\" % (train_x.shape[1], valid_x.shape[1]))\n",
    "\n",
    "#Using intercept\n",
    "if intercept:\n",
    "    train_x = np.hstack([train_x, np.ones((train_x.shape[0], 1), dtype=train_x.dtype)])\n",
    "    valid_x = np.hstack([valid_x, np.ones((valid_x.shape[0], 1), dtype=valid_x.dtype)])\n",
    "    n = train_x.shape[1]\n",
    "    print(\"Size of Train cols=%d & valid cols=%d after adding intercept column\" % (train_x.shape[1], valid_x.shape[1]))"
   ]
  },
  {
   "cell_type": "code",
   "execution_count": 6,
   "metadata": {
    "collapsed": true
   },
   "outputs": [],
   "source": [
    "#Choose solver\n",
    "Solver = h2o4gpu.LogisticRegression"
   ]
  },
  {
   "cell_type": "code",
   "execution_count": 7,
   "metadata": {},
   "outputs": [
    {
     "name": "stdout",
     "output_type": "stream",
     "text": [
      "Setting up solver\n"
     ]
    }
   ],
   "source": [
    "fortran = train_x.flags.f_contiguous #Row major vs Column major\n",
    "print(\"Setting up solver\")\n",
    "sys.stdout.flush()\n",
    "solver = Solver(\n",
    "              n_gpus=n_gpus,  \n",
    "              fit_intercept=intercept,\n",
    "              lambda_min_ratio=lambda_min_ratio,\n",
    "              n_lambdas=n_lambdas, \n",
    "              n_folds=n_folds, \n",
    "              n_alphas=n_alphas, \n",
    "              verbose=verbose,  \n",
    "              give_full_path=give_full_path)"
   ]
  },
  {
   "cell_type": "code",
   "execution_count": 8,
   "metadata": {},
   "outputs": [
    {
     "name": "stdout",
     "output_type": "stream",
     "text": [
      "Solving\n",
      "Done Solving\n",
      "Took 6.482304573059082 seconds to solve.\n"
     ]
    }
   ],
   "source": [
    "print(\"Solving\")\n",
    "start = time.time()\n",
    "fit = solver.fit(train_x, train_y)\n",
    "end = time.time() - start\n",
    "print(\"Done Solving\")\n",
    "print(\"Took %s seconds to solve.\" % end)"
   ]
  },
  {
   "cell_type": "code",
   "execution_count": 9,
   "metadata": {},
   "outputs": [
    {
     "name": "stdout",
     "output_type": "stream",
     "text": [
      "Xvsalpha\n",
      "[[  1.82659369e-06  -4.62984360e-07  -7.50495866e-02  -1.06810451e-01\n",
      "   -1.43118232e-01   4.86549875e-03   5.64639986e-01   6.84994832e-02\n",
      "    8.15961137e-02  -4.72300593e-03   9.08494368e-02  -1.17632560e-02\n",
      "   -6.69613837e-06   3.32956711e-06   9.69043512e-08  -2.77160268e-08\n",
      "    1.42902729e-06   7.34622631e-07  -1.70781041e-05  -7.03282331e-06\n",
      "   -3.60724061e-06  -4.40247004e-06  -9.96036192e-07  -2.00349200e-06\n",
      "   -6.75806701e-01]\n",
      " [  1.92904281e-06  -4.56136746e-07  -2.85321772e-02  -8.10271576e-02\n",
      "   -9.75653827e-02   5.65608498e-03   5.62728584e-01   6.24704696e-02\n",
      "    7.64279217e-02   0.00000000e+00   7.54820108e-02   0.00000000e+00\n",
      "   -6.66864617e-06   3.13863620e-06   7.29369333e-07  -1.29122827e-06\n",
      "    2.28572208e-06   7.43850819e-07  -1.70064341e-05  -7.32524541e-06\n",
      "   -2.70869259e-06  -5.49549850e-06  -9.86616101e-07  -2.00756676e-06\n",
      "   -8.98487151e-01]\n",
      " [  1.84303371e-06  -4.61499525e-07  -4.14962620e-02  -8.78860578e-02\n",
      "   -1.14572413e-01   5.33862831e-03   5.69067359e-01   5.91637455e-02\n",
      "    7.59159327e-02   0.00000000e+00   8.15851986e-02   0.00000000e+00\n",
      "   -6.60901287e-06   3.13523242e-06   5.84525196e-07  -9.78516027e-07\n",
      "    1.88093259e-06   9.63269940e-07  -1.77515794e-05  -7.24763777e-06\n",
      "   -3.59869023e-06  -4.51186497e-06  -1.15994749e-06  -1.89790023e-06\n",
      "   -8.26193869e-01]]\n",
      "np.shape(Xvsalpha)\n",
      "(3, 25)\n",
      "logloss_train\n",
      "[[ 0.47697327  0.47563934 -1.        ]\n",
      " [ 0.47715914  0.47569397 -1.        ]\n",
      " [ 0.47708073  0.47564939 -1.        ]]\n",
      "Best lambdas\n",
      "[[ 50.35232544]\n",
      " [ 65.97764587]\n",
      " [ 30.64070129]]\n",
      "Best alphas\n",
      "[[ 0. ]\n",
      " [ 0.5]\n",
      " [ 1. ]]\n",
      "Best tols\n",
      "[[ 0.01]\n",
      " [ 0.01]\n",
      " [ 0.01]]\n"
     ]
    }
   ],
   "source": [
    "# Show something about Xvsalphalambda or Xvsalpha\n",
    "print(\"Xvsalpha\")\n",
    "print(fit.x_vs_alphapure)\n",
    "\n",
    "print(\"np.shape(Xvsalpha)\")\n",
    "print(np.shape(fit.x_vs_alphapure))\n",
    "\n",
    "error_train = fit.error_vs_alpha\n",
    "\n",
    "print(\"logloss_train\")\n",
    "print(error_train)\n",
    "\n",
    "print(\"Best lambdas\")\n",
    "lambdas = fit.lambdas_best\n",
    "print(lambdas)\n",
    "\n",
    "print(\"Best alphas\")\n",
    "alphas = fit.alphas_best\n",
    "print(alphas)\n",
    "\n",
    "print(\"Best tols\")\n",
    "tols = fit.tols_best\n",
    "print(tols)"
   ]
  },
  {
   "cell_type": "code",
   "execution_count": 10,
   "metadata": {},
   "outputs": [
    {
     "name": "stdout",
     "output_type": "stream",
     "text": [
      "[[ 0.768255    0.14183101  0.14306544 ...,  0.26625088  0.24452013\n",
      "   0.17846589]\n",
      " [ 0.76835787  0.14378332  0.14954805 ...,  0.25559866  0.24205837\n",
      "   0.17870741]\n",
      " [ 0.77359319  0.14255883  0.14806251 ...,  0.25893533  0.24191481\n",
      "   0.17713974]]\n"
     ]
    }
   ],
   "source": [
    "#Make predictions on validation\n",
    "preds = fit.predict(valid_x, valid_y)\n",
    "print(preds)"
   ]
  },
  {
   "cell_type": "code",
   "execution_count": 11,
   "metadata": {},
   "outputs": [
    {
     "name": "stdout",
     "output_type": "stream",
     "text": [
      "Logloss for alpha =  [ 0.]\n",
      "0.438951469811\n",
      "Logloss for alpha =  [ 0.5]\n",
      "0.439302527004\n",
      "Logloss for alpha =  [ 1.]\n",
      "0.439180472172\n"
     ]
    }
   ],
   "source": [
    "#Get logloss or rmse for validation set per alpha\n",
    "for i in range(n_alphas):\n",
    "    print(\"Logloss for alpha = \",alphas[i])\n",
    "    print(log_loss(valid_y, preds[i]))"
   ]
  },
  {
   "cell_type": "code",
   "execution_count": null,
   "metadata": {
    "collapsed": true
   },
   "outputs": [],
   "source": [
    ""
   ]
  }
 ],
 "metadata": {
  "kernelspec": {
   "display_name": "env",
   "language": "python",
   "name": "env"
  },
  "language_info": {
   "codemirror_mode": {
    "name": "ipython",
    "version": 3.0
   },
   "file_extension": ".py",
   "mimetype": "text/x-python",
   "name": "python",
   "nbconvert_exporter": "python",
   "pygments_lexer": "ipython3",
   "version": "3.6.1"
  }
 },
 "nbformat": 4,
 "nbformat_minor": 0
}
