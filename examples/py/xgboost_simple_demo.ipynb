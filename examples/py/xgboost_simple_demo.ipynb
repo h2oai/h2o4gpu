{
 "cells": [
  {
   "cell_type": "code",
   "execution_count": 1,
   "metadata": {},
   "outputs": [],
   "source": [
    "import xgboost as xgb\n",
    "import numpy as np\n",
    "from sklearn.datasets import fetch_covtype\n",
    "from sklearn.model_selection import train_test_split\n",
    "import time"
   ]
  },
  {
   "cell_type": "code",
   "execution_count": 2,
   "metadata": {},
   "outputs": [
    {
     "name": "stdout",
     "output_type": "stream",
     "text": [
      "CPU times: user 576 ms, sys: 64 ms, total: 640 ms\n",
      "Wall time: 1.11 s\n"
     ]
    }
   ],
   "source": [
    "%%time\n",
    "# Fetch dataset using sklearn\n",
    "cov = fetch_covtype()\n",
    "X = cov.data\n",
    "y = cov.target"
   ]
  },
  {
   "cell_type": "code",
   "execution_count": 3,
   "metadata": {},
   "outputs": [
    {
     "name": "stdout",
     "output_type": "stream",
     "text": [
      "CPU times: user 136 ms, sys: 40 ms, total: 176 ms\n",
      "Wall time: 173 ms\n"
     ]
    }
   ],
   "source": [
    "%%time\n",
    "# Create 0.75/0.25 train/test split\n",
    "X_train, X_test, y_train, y_test = train_test_split(X, y, test_size=0.25, train_size=0.75,\n",
    "                                                    random_state=42)"
   ]
  },
  {
   "cell_type": "code",
   "execution_count": 16,
   "metadata": {},
   "outputs": [
    {
     "name": "stdout",
     "output_type": "stream",
     "text": [
      "CPU times: user 140 ms, sys: 60 ms, total: 200 ms\n",
      "Wall time: 200 ms\n"
     ]
    }
   ],
   "source": [
    "%%time\n",
    "# Convert input data from numpy to XGBoost format\n",
    "dtrain = xgb.DMatrix(X_train, label=y_train)\n",
    "dtest = xgb.DMatrix(X_test, label=y_test)\n",
    "\n",
    "# boost parameters to hold constant\n",
    "num_round = 10\n",
    "maxdepth = 8"
   ]
  },
  {
   "cell_type": "code",
   "execution_count": 17,
   "metadata": {},
   "outputs": [
    {
     "name": "stdout",
     "output_type": "stream",
     "text": [
      "[0]\ttest-merror:0.222935\n",
      "[1]\ttest-merror:0.211066\n",
      "[2]\ttest-merror:0.202309\n",
      "[3]\ttest-merror:0.196678\n",
      "[4]\ttest-merror:0.193304\n",
      "[5]\ttest-merror:0.189442\n",
      "[6]\ttest-merror:0.186771\n",
      "[7]\ttest-merror:0.185056\n",
      "[8]\ttest-merror:0.183046\n",
      "[9]\ttest-merror:0.180382\n",
      "GPU Training Time: 5.804930925369263 seconds\n",
      "CPU times: user 3.31 s, sys: 2.51 s, total: 5.82 s\n",
      "Wall time: 5.81 s\n"
     ]
    }
   ],
   "source": [
    "%%time\n",
    "# Leave most parameters as default\n",
    "param = {'objective': 'multi:softmax', # Specify multiclass classification\n",
    "         'num_class': 8, # Number of possible output classes\n",
    "         'tree_method': 'gpu_hist', # Use GPU accelerated algorithm\n",
    "         'grow_policy': 'depthwise',\n",
    "         'max_depth': maxdepth\n",
    "         }\n",
    "gpu_res = {} # Store accuracy result\n",
    "tmp = time.time()\n",
    "# Train model\n",
    "xgb.train(param, dtrain, num_round, evals=[(dtest, 'test')], evals_result=gpu_res)\n",
    "print(\"GPU Training Time: %s seconds\" % (str(time.time() - tmp)))"
   ]
  },
  {
   "cell_type": "code",
   "execution_count": 19,
   "metadata": {},
   "outputs": [
    {
     "name": "stdout",
     "output_type": "stream",
     "text": [
      "[0]\ttest-merror:0.220877\n",
      "[1]\ttest-merror:0.207934\n",
      "[2]\ttest-merror:0.201724\n",
      "[3]\ttest-merror:0.19559\n",
      "[4]\ttest-merror:0.191549\n",
      "[5]\ttest-merror:0.188265\n",
      "[6]\ttest-merror:0.185655\n",
      "[7]\ttest-merror:0.184051\n",
      "[8]\ttest-merror:0.181958\n",
      "[9]\ttest-merror:0.180423\n",
      "GPU Training Time: 329.18328404426575 seconds\n",
      "CPU times: user 1min 40s, sys: 3min 48s, total: 5min 29s\n",
      "Wall time: 5min 29s\n"
     ]
    }
   ],
   "source": [
    "%%time\n",
    "# Leave most parameters as default\n",
    "param = {'objective': 'multi:softmax', # Specify multiclass classification\n",
    "         'num_class': 8, # Number of possible output classes\n",
    "         'tree_method': 'gpu_hist_experimental', # Use GPU accelerated algorithm\n",
    "         'grow_policy': 'depthwise',\n",
    "         'max_depth': maxdepth\n",
    "         }\n",
    "gpu_res = {} # Store accuracy result\n",
    "tmp = time.time()\n",
    "# Train model\n",
    "xgb.train(param, dtrain, num_round, evals=[(dtest, 'test')], evals_result=gpu_res)\n",
    "print(\"GPU Training Time: %s seconds\" % (str(time.time() - tmp)))"
   ]
  },
  {
   "cell_type": "code",
   "execution_count": 20,
   "metadata": {},
   "outputs": [
    {
     "name": "stdout",
     "output_type": "stream",
     "text": [
      "[0]\ttest-merror:0.254817\n",
      "[1]\ttest-merror:0.247733\n",
      "[2]\ttest-merror:0.244208\n",
      "[3]\ttest-merror:0.240367\n",
      "[4]\ttest-merror:0.23888\n",
      "[5]\ttest-merror:0.234453\n",
      "[6]\ttest-merror:0.232932\n",
      "[7]\ttest-merror:0.231252\n",
      "[8]\ttest-merror:0.227665\n",
      "[9]\ttest-merror:0.226178\n",
      "GPU Training Time: 305.76941204071045 seconds\n",
      "CPU times: user 1min 33s, sys: 3min 32s, total: 5min 5s\n",
      "Wall time: 5min 5s\n"
     ]
    }
   ],
   "source": [
    "%%time\n",
    "# Leave most parameters as default\n",
    "param = {'objective': 'multi:softmax', # Specify multiclass classification\n",
    "         'num_class': 8, # Number of possible output classes\n",
    "         'tree_method': 'gpu_hist_experimental', # Use GPU accelerated algorithm\n",
    "         'grow_policy': 'lossguide',\n",
    "         'max_leaves': np.power(2,maxdepth)\n",
    "         }\n",
    "gpu_res = {} # Store accuracy result\n",
    "tmp = time.time()\n",
    "# Train model\n",
    "xgb.train(param, dtrain, num_round, evals=[(dtest, 'test')], evals_result=gpu_res)\n",
    "print(\"GPU Training Time: %s seconds\" % (str(time.time() - tmp)))"
   ]
  },
  {
   "cell_type": "code",
   "execution_count": 21,
   "metadata": {},
   "outputs": [
    {
     "name": "stdout",
     "output_type": "stream",
     "text": [
      "[0]\ttest-merror:0.219149\n",
      "[1]\ttest-merror:0.208009\n",
      "[2]\ttest-merror:0.202027\n",
      "[3]\ttest-merror:0.195404\n",
      "[4]\ttest-merror:0.191514\n",
      "[5]\ttest-merror:0.188609\n",
      "[6]\ttest-merror:0.187239\n",
      "[7]\ttest-merror:0.18474\n",
      "[8]\ttest-merror:0.18242\n",
      "[9]\ttest-merror:0.180871\n",
      "CPU Training Time: 28.019179344177246 seconds\n",
      "CPU times: user 28 s, sys: 20 ms, total: 28 s\n",
      "Wall time: 28 s\n"
     ]
    }
   ],
   "source": [
    "%%time\n",
    "# Leave most parameters as default\n",
    "param = {'objective': 'multi:softmax', # Specify multiclass classification\n",
    "         'num_class': 8, # Number of possible output classes\n",
    "         'tree_method': 'hist', # Use CPU accelerated algorithm\n",
    "         'grow_policy': 'depthwise',\n",
    "         'max_depth': maxdepth\n",
    "         }\n",
    "# Repeat for CPU algorithm\n",
    "tmp = time.time()\n",
    "cpu_res = {}\n",
    "xgb.train(param, dtrain, num_round, evals=[(dtest, 'test')], evals_result=cpu_res)\n",
    "print(\"CPU Training Time: %s seconds\" % (str(time.time() - tmp)))"
   ]
  },
  {
   "cell_type": "code",
   "execution_count": 22,
   "metadata": {},
   "outputs": [
    {
     "name": "stdout",
     "output_type": "stream",
     "text": [
      "[0]\ttest-merror:0.254831\n",
      "[1]\ttest-merror:0.247912\n",
      "[2]\ttest-merror:0.244298\n",
      "[3]\ttest-merror:0.24069\n",
      "[4]\ttest-merror:0.238536\n",
      "[5]\ttest-merror:0.234804\n",
      "[6]\ttest-merror:0.232229\n",
      "[7]\ttest-merror:0.229703\n",
      "[8]\ttest-merror:0.227162\n",
      "[9]\ttest-merror:0.224519\n",
      "CPU Training Time: 26.534437656402588 seconds\n",
      "CPU times: user 26.5 s, sys: 52 ms, total: 26.6 s\n",
      "Wall time: 26.5 s\n"
     ]
    }
   ],
   "source": [
    "%%time\n",
    "# Leave most parameters as default\n",
    "param = {'objective': 'multi:softmax', # Specify multiclass classification\n",
    "         'num_class': 8, # Number of possible output classes\n",
    "         'tree_method': 'hist', # Use CPU accelerated algorithm\n",
    "         'grow_policy': 'lossguide',\n",
    "         'max_leaves': np.power(2,maxdepth)\n",
    "          }\n",
    "# Repeat for CPU algorithm\n",
    "tmp = time.time()\n",
    "cpu_res = {}\n",
    "xgb.train(param, dtrain, num_round, evals=[(dtest, 'test')], evals_result=cpu_res)\n",
    "print(\"CPU Training Time: %s seconds\" % (str(time.time() - tmp)))"
   ]
  },
  {
   "cell_type": "code",
   "execution_count": null,
   "metadata": {},
   "outputs": [],
   "source": []
  }
 ],
 "metadata": {
  "kernelspec": {
   "display_name": "Python 3.6.1(pyenv)",
   "language": "python",
   "name": "python3"
  },
  "language_info": {
   "codemirror_mode": {
    "name": "ipython",
    "version": 3
   },
   "file_extension": ".py",
   "mimetype": "text/x-python",
   "name": "python",
   "nbconvert_exporter": "python",
   "pygments_lexer": "ipython3",
   "version": "3.6.1"
  }
 },
 "nbformat": 4,
 "nbformat_minor": 2
}
