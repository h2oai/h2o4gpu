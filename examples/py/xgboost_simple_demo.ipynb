{
 "cells": [
  {
   "cell_type": "code",
   "execution_count": 1,
   "metadata": {},
   "outputs": [],
   "source": [
    "import xgboost as xgb\n",
    "import numpy as np\n",
    "from sklearn.datasets import fetch_covtype\n",
    "from sklearn.model_selection import train_test_split\n",
    "import time"
   ]
  },
  {
   "cell_type": "code",
   "execution_count": 2,
   "metadata": {},
   "outputs": [
    {
     "name": "stdout",
     "output_type": "stream",
     "text": [
      "CPU times: user 480 ms, sys: 28 ms, total: 508 ms\n",
      "Wall time: 507 ms\n"
     ]
    }
   ],
   "source": [
    "%%time\n",
    "# Fetch dataset using sklearn\n",
    "cov = fetch_covtype()\n",
    "X = cov.data\n",
    "y = cov.target"
   ]
  },
  {
   "cell_type": "code",
   "execution_count": 3,
   "metadata": {},
   "outputs": [
    {
     "name": "stdout",
     "output_type": "stream",
     "text": [
      "CPU times: user 80 ms, sys: 28 ms, total: 108 ms\n",
      "Wall time: 107 ms\n"
     ]
    }
   ],
   "source": [
    "%%time\n",
    "# Create 0.75/0.25 train/test split\n",
    "X_train, X_test, y_train, y_test = train_test_split(X, y, test_size=0.25, train_size=0.75,\n",
    "                                                    random_state=42)"
   ]
  },
  {
   "cell_type": "code",
   "execution_count": 4,
   "metadata": {},
   "outputs": [
    {
     "name": "stdout",
     "output_type": "stream",
     "text": [
      "CPU times: user 84 ms, sys: 32 ms, total: 116 ms\n",
      "Wall time: 116 ms\n"
     ]
    }
   ],
   "source": [
    "%%time\n",
    "# Convert input data from numpy to XGBoost format\n",
    "dtrain = xgb.DMatrix(X_train, label=y_train)\n",
    "dtest = xgb.DMatrix(X_test, label=y_test)\n",
    "\n",
    "num_round = 3\n",
    "maxdepth = 6"
   ]
  },
  {
   "cell_type": "code",
   "execution_count": 5,
   "metadata": {},
   "outputs": [
    {
     "name": "stdout",
     "output_type": "stream",
     "text": [
      "[0]\ttest-rmse:1.93335\n",
      "[1]\ttest-rmse:1.79929\n",
      "[2]\ttest-rmse:1.68219\n",
      "GPU Training Time: 1.0427639484405518 seconds\n",
      "CPU times: user 3.5 s, sys: 404 ms, total: 3.91 s\n",
      "Wall time: 1.04 s\n"
     ]
    }
   ],
   "source": [
    "%%time\n",
    "# Specify sufficient boosting iterations to reach a minimum\n",
    "\n",
    "# Leave most parameters as default\n",
    "param = {'num_class': 1, # Number of possible output classes\n",
    "         'tree_method': 'gpu_hist', # Use GPU accelerated algorithm\n",
    "         'grow_policy': 'depthwise',\n",
    "         'max_depth': maxdepth,\n",
    "         'random_state': 1234,\n",
    "         'base_score': 0.5, 'booster': 'gbtree', 'colsample_bylevel': 1, 'colsample_bytree': 1, 'gamma': 0, 'learning_rate': 0.1, 'max_delta_step': 0, 'min_child_weight': 1, 'missing': None, 'n_estimators': 3, 'n_jobs': 1, 'objective': 'reg:linear', 'reg_alpha': 0, 'reg_lambda': 1, 'scale_pos_weight': 1, 'silent': True, 'subsample': 1, 'verbose': True\n",
    "         }\n",
    "gpu_res = {} # Store accuracy result\n",
    "tmp = time.time()\n",
    "# Train model\n",
    "xgb.train(param, dtrain, num_round, evals=[(dtest, 'test')], evals_result=gpu_res)\n",
    "print(\"GPU Training Time: %s seconds\" % (str(time.time() - tmp)))"
   ]
  },
  {
   "cell_type": "code",
   "execution_count": 11,
   "metadata": {},
   "outputs": [
    {
     "name": "stdout",
     "output_type": "stream",
     "text": [
      "[0]\ttest-rmse:1.93335\n",
      "[1]\ttest-rmse:1.79929\n",
      "[2]\ttest-rmse:1.68219\n",
      "GPU Training Time: 1.3707866668701172 seconds\n",
      "CPU times: user 1.2 s, sys: 148 ms, total: 1.35 s\n",
      "Wall time: 1.37 s\n"
     ]
    }
   ],
   "source": [
    "%%time\n",
    "# Leave most parameters as default\n",
    "param = {'tree_method': 'gpu_hist', # Use GPU accelerated algorithm\n",
    "         #'tree_method': 'hist',\n",
    "         'grow_policy': 'depthwise',\n",
    "         'max_depth': maxdepth,\n",
    "         'random_state': 1234,\n",
    "         'base_score': 0.5, 'booster': 'gbtree', 'colsample_bylevel': 1, 'colsample_bytree': 1, 'gamma': 0, 'learning_rate': 0.1, 'max_delta_step': 0, 'min_child_weight': 1, 'missing': None, 'n_estimators': 3, 'n_jobs': 1, 'objective': 'reg:linear', 'reg_alpha': 0, 'reg_lambda': 1, 'scale_pos_weight': 1, 'silent': True, 'subsample': 1, 'verbose': True\n",
    "        }\n",
    "gpu_res = {} # Store accuracy result\n",
    "tmp = time.time()\n",
    "# Train model\n",
    "xgb.train(param, dtrain, num_round, evals=[(dtest, 'test')], evals_result=gpu_res)\n",
    "print(\"GPU Training Time: %s seconds\" % (str(time.time() - tmp)))"
   ]
  },
  {
   "cell_type": "code",
   "execution_count": 12,
   "metadata": {},
   "outputs": [
    {
     "name": "stdout",
     "output_type": "stream",
     "text": [
      "[0]\ttest-rmse:1.93335\n",
      "[1]\ttest-rmse:1.7993\n",
      "[2]\ttest-rmse:1.68222\n",
      "GPU Training Time: 1.6107001304626465 seconds\n",
      "CPU times: user 1.58 s, sys: 28 ms, total: 1.61 s\n",
      "Wall time: 1.61 s\n"
     ]
    }
   ],
   "source": [
    "%%time\n",
    "# Leave most parameters as default\n",
    "param = {#'tree_method': 'gpu_hist', # Use GPU accelerated algorithm\n",
    "         'tree_method': 'hist',\n",
    "         'grow_policy': 'lossguide',\n",
    "         'max_leaves': np.power(2,maxdepth),\n",
    "         'max_depth': maxdepth,\n",
    "         'random_state': 1234,\n",
    "         'base_score': 0.5, 'booster': 'gbtree', 'colsample_bylevel': 1, 'colsample_bytree': 1, 'gamma': 0, 'learning_rate': 0.1, 'max_delta_step': 0, 'min_child_weight': 1, 'missing': None, 'n_estimators': 3, 'n_jobs': 1, 'objective': 'reg:linear', 'reg_alpha': 0, 'reg_lambda': 1, 'scale_pos_weight': 1, 'silent': True, 'subsample': 1, 'verbose': True\n",
    "         }\n",
    "gpu_res = {} # Store accuracy result\n",
    "tmp = time.time()\n",
    "# Train model\n",
    "xgb.train(param, dtrain, num_round, evals=[(dtest, 'test')], evals_result=gpu_res)\n",
    "print(\"GPU Training Time: %s seconds\" % (str(time.time() - tmp)))"
   ]
  },
  {
   "cell_type": "code",
   "execution_count": 13,
   "metadata": {},
   "outputs": [],
   "source": [
    "train_X = X_train\n",
    "test_X = X_test\n",
    "train_y = y_train\n",
    "test_y = y_test"
   ]
  },
  {
   "cell_type": "code",
   "execution_count": 14,
   "metadata": {},
   "outputs": [
    {
     "name": "stdout",
     "output_type": "stream",
     "text": [
      "[0]\tvalidation_0-rmse:1.93335\n",
      "[1]\tvalidation_0-rmse:1.7993\n",
      "[2]\tvalidation_0-rmse:1.68222\n",
      "{'base_score': 0.5, 'booster': 'gbtree', 'colsample_bylevel': 1, 'colsample_bytree': 1, 'gamma': 0, 'learning_rate': 0.1, 'max_delta_step': 0, 'max_depth': 6, 'min_child_weight': 1, 'missing': None, 'n_estimators': 3, 'n_jobs': 1, 'nthread': None, 'objective': 'reg:linear', 'random_state': 1234, 'reg_alpha': 0, 'reg_lambda': 1, 'scale_pos_weight': 1, 'seed': None, 'silent': True, 'subsample': 1, 'tree_method': 'hist', 'verbose': True}\n"
     ]
    }
   ],
   "source": [
    "grow_policy = \"depthwise\"\n",
    "eval_metric = \"rmse\"\n",
    "model = xgb.XGBRegressor(    n_estimators=num_round,\n",
    "                             tree_method=\"hist\",\n",
    "                             #tree_method=\"gpu_hist\", n_gpus=1,\n",
    "                             #grow_policy=grow_policy,\n",
    "                             max_depth=maxdepth,\n",
    "                             n_jobs=1, random_state=1234, verbose=True)\n",
    "model.fit(X=train_X, y=train_y, verbose=True, eval_set=[(test_X, test_y)], eval_metric=eval_metric)\n",
    "print(model.get_params())"
   ]
  },
  {
   "cell_type": "code",
   "execution_count": 15,
   "metadata": {},
   "outputs": [
    {
     "name": "stdout",
     "output_type": "stream",
     "text": [
      "[0]\tvalidation_0-rmse:1.93335\n",
      "[1]\tvalidation_0-rmse:1.7993\n",
      "[2]\tvalidation_0-rmse:1.68222\n",
      "{'base_score': 0.5, 'booster': 'gbtree', 'colsample_bylevel': 1, 'colsample_bytree': 1, 'gamma': 0, 'learning_rate': 0.1, 'max_delta_step': 0, 'max_depth': 6, 'min_child_weight': 1, 'missing': None, 'n_estimators': 3, 'n_jobs': 1, 'nthread': None, 'objective': 'reg:linear', 'random_state': 1234, 'reg_alpha': 0, 'reg_lambda': 1, 'scale_pos_weight': 1, 'seed': None, 'silent': True, 'subsample': 1, 'tree_method': 'hist', 'grow_policy': 'lossguide', 'max_leaves': 64, 'verbose': True}\n"
     ]
    }
   ],
   "source": [
    "grow_policy = \"lossguide\"\n",
    "eval_metric = \"rmse\"\n",
    "model = xgb.XGBRegressor(    n_estimators=num_round,\n",
    "                             tree_method=\"hist\",\n",
    "                             #tree_method=\"gpu_hist\", n_gpus=1,\n",
    "                             grow_policy=grow_policy,\n",
    "                             max_leaves = np.power(2,maxdepth),\n",
    "                             max_depth=maxdepth,\n",
    "                             n_jobs=1, random_state=1234, verbose=True)\n",
    "model.fit(X=train_X, y=train_y, verbose=True, eval_set=[(test_X, test_y)], eval_metric=eval_metric)\n",
    "print(model.get_params())"
   ]
  },
  {
   "cell_type": "code",
   "execution_count": null,
   "metadata": {},
   "outputs": [],
   "source": []
  },
  {
   "cell_type": "code",
   "execution_count": null,
   "metadata": {},
   "outputs": [],
   "source": []
  }
 ],
 "metadata": {
  "kernelspec": {
   "display_name": "Python 3.6.1(pyenv)",
   "language": "python",
   "name": "python3"
  },
  "language_info": {
   "codemirror_mode": {
    "name": "ipython",
    "version": 3
   },
   "file_extension": ".py",
   "mimetype": "text/x-python",
   "name": "python",
   "nbconvert_exporter": "python",
   "pygments_lexer": "ipython3",
   "version": "3.6.1"
  }
 },
 "nbformat": 4,
 "nbformat_minor": 2
}
