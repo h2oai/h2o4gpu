{
 "cells": [
  {
   "cell_type": "code",
   "execution_count": 12,
   "metadata": {
    "collapsed": true
   },
   "outputs": [],
   "source": [
    "import h2o4gpu\n",
    "import h2o4gpu.util.import_data as io\n",
    "import h2o4gpu.util.metrics as metrics\n",
    "from tabulate import tabulate\n",
    "import pandas as pd"
   ]
  },
  {
   "cell_type": "code",
   "execution_count": 14,
   "metadata": {},
   "outputs": [
    {
     "name": "stdout",
     "output_type": "stream",
     "text": [
      "Reading Data with Pandas\n",
      "(999, 9733)\n",
      "Original m=999 n=9732\n",
      "Size of Train rows=800 & valid rows=199\n",
      "Size of Train cols=9732 valid cols=9732\n",
      "Size of Train cols=9733 & valid cols=9733 after adding intercept column\n"
     ]
    }
   ],
   "source": [
    "\"\"\"\n",
    "Import Data for H2O GPU Edition\n",
    "\n",
    "This function will read in data and prepare it for H2O4GPU's GLM solver\n",
    "\n",
    "Parameters\n",
    "----------\n",
    "data_path : str\n",
    "             A path to a dataset (The dataset needs to be all numeric)\n",
    "use_pandas : bool\n",
    "              Indicate if Pandas should be used to parse\n",
    "intercept : bool\n",
    "              Indicate if intercept term is needed\n",
    "valid_fraction : float\n",
    "                  Percentage of dataset reserved for a validation set\n",
    "classification : bool\n",
    "                  Classification problem?\n",
    "Returns\n",
    "-------\n",
    "If valid_fraction > 0 it will return the following:\n",
    "    train_x: numpy array of train input variables\n",
    "    train_y: numpy array of y variable\n",
    "    valid_x: numpy array of valid input variables\n",
    "    valid_y: numpy array of valid y variable\n",
    "    family : string that would either be \"logistic\" if classification is set to True, otherwise \"elasticnet\"\n",
    "If valid_fraction == 0 it will return the following:\n",
    "    train_x: numpy array of train input variables\n",
    "    train_y: numpy array of y variable\n",
    "    family : string that would either be \"logistic\" if classification is set to True, otherwise \"elasticnet\"\n",
    "\"\"\"\n",
    "\n",
    "train_x,train_y,valid_x,valid_y,family=io.import_data(data_path=\"../../../data/ipums_1k.csv\", \n",
    "                                                        use_pandas=True, \n",
    "                                                        intercept=True,\n",
    "                                                        valid_fraction=0.2,\n",
    "                                                        classification=False)"
   ]
  },
  {
   "cell_type": "code",
   "execution_count": 15,
   "metadata": {},
   "outputs": [
    {
     "name": "stdout",
     "output_type": "stream",
     "text": [
      "Setting up solver\n"
     ]
    }
   ],
   "source": [
    "\"\"\"\n",
    "Set up instance of H2O4GPU's GLM solver with default parameters\n",
    "\n",
    "Need to pass in `family` to indicate problem type to solve\n",
    "\"\"\"\n",
    "print(\"Setting up solver\")\n",
    "model = h2o4gpu.LinearRegression()"
   ]
  },
  {
   "cell_type": "code",
   "execution_count": 16,
   "metadata": {},
   "outputs": [
    {
     "name": "stdout",
     "output_type": "stream",
     "text": [
      "Solving\n",
      "CPU times: user 5.44 s, sys: 864 ms, total: 6.3 s\n",
      "Wall time: 6.28 s\n",
      "Done Solving\n",
      "RMSE per alpha value (-1.00 = missing)\n",
      "\n",
      "|   Alphas |   Train |    CV |   Valid |\n",
      "|---------:|--------:|------:|--------:|\n",
      "|     0.00 | 4321.38 | -1.00 |   -1.00 |\n"
     ]
    }
   ],
   "source": [
    "\"\"\"\n",
    "Fit Linear Regression Solver\n",
    "\"\"\"\n",
    "print(\"Solving\")\n",
    "%time model.fit(train_x, train_y)\n",
    "print(\"Done Solving\")\n",
    "model.summary()"
   ]
  },
  {
   "cell_type": "code",
   "execution_count": 17,
   "metadata": {},
   "outputs": [
    {
     "name": "stdout",
     "output_type": "stream",
     "text": [
      "Predictions per alpha\n",
      "[[  1.11381211e+04   8.42791094e+04   4.05828086e+04   5.35622539e+04\n",
      "    4.26661406e+04   2.63907891e+04   1.66206738e+04   4.01061250e+04\n",
      "    4.61646562e+04   5.76909180e+04  -1.49988643e+04   1.43937783e+04\n",
      "    2.21791621e+04   2.49092227e+04   8.64333594e+04   5.05008594e+04\n",
      "    3.24703652e+04   2.15377168e+04   1.15320312e+04   1.02565742e+05\n",
      "   -5.53202454e+02   2.43787344e+04   9.61504102e+03   5.70016504e+03\n",
      "    1.52409033e+04   6.35301523e+04   6.69761172e+04   7.89945312e+02\n",
      "    1.85213574e+04  -2.26827070e+04   4.28969453e+04   3.92351680e+04\n",
      "   -4.89953789e+04   1.53601260e+04  -3.53628613e+03  -5.82679883e+03\n",
      "    3.02814473e+04   1.09081777e+04  -6.70460596e+03   1.27039984e+05\n",
      "   -3.67764062e+04  -3.43336250e+04   8.08519844e+04   2.71479863e+04\n",
      "   -3.28139805e+04   1.70255898e+04   6.02074414e+04   4.65442539e+04\n",
      "    3.62616562e+04   4.00981250e+03   8.20721387e+03   1.19997832e+04\n",
      "    4.92157500e+04   3.37159453e+04  -6.81405371e+03   9.31092163e+02\n",
      "   -8.11587549e+03   3.15452070e+04   4.13512422e+04   2.26865098e+04\n",
      "    4.78427812e+04  -3.47921191e+03   2.31112852e+04  -1.39378438e+04\n",
      "    8.17953047e+04   2.97429570e+04   2.03664883e+04   6.14661836e+04\n",
      "    4.10709453e+04   1.37964875e+05   5.24948242e+04  -2.15959453e+04\n",
      "   -2.72950918e+04   5.97026641e+04   5.49097031e+04   4.39532959e+03\n",
      "    9.03124453e+04  -1.00274365e+03   2.41979824e+04   1.33051719e+04\n",
      "    5.77718359e+04   1.00621523e+04   6.92899062e+04   3.92100234e+04\n",
      "    7.04816953e+04   6.04385391e+04   1.37861969e+05   1.23353652e+04\n",
      "   -1.51489756e+04   1.15447070e+04   6.30597363e+03   5.41800098e+03\n",
      "    7.64909609e+04   9.28392031e+04   3.55995469e+04   4.75580352e+04\n",
      "    2.24329414e+04   4.34770039e+04   3.37065664e+04   9.60661914e+03\n",
      "   -8.46576074e+03   9.27247070e+03   3.96197891e+04   1.00585000e+05\n",
      "    3.59149062e+04   4.37493242e+04   2.10854102e+04   1.68565381e+03\n",
      "   -1.75306895e+04   1.54446387e+03   8.09987012e+03   3.45903398e+04\n",
      "   -1.38592812e+04   6.12371914e+04   3.44236768e+03   3.02048613e+04\n",
      "   -4.81943701e+03  -2.52531875e+04   4.10294766e+04   7.47518652e+03\n",
      "    6.47169336e+03   5.52494453e+04   9.11608203e+03   7.13159277e+03\n",
      "    3.74262500e+04   2.42561055e+04   2.44569570e+04   4.88902422e+04\n",
      "    7.21320781e+04   7.98258516e+04   2.13632285e+04   8.14805176e+03\n",
      "   -9.23539453e+03   4.51423291e+03   1.79316125e+05  -3.68331875e+04\n",
      "    5.73886719e+01  -3.42257344e+04   2.01560801e+04   1.18905801e+04\n",
      "    4.31058672e+04   1.00023891e+05   2.95138203e+04   2.82054883e+04\n",
      "    2.92996328e+04   6.16385234e+04   3.76515742e+04  -6.33822607e+03\n",
      "    4.49546953e+04   5.08076953e+04   8.75023906e+04   1.35483369e+04\n",
      "    2.14899648e+04   4.01564375e+04   2.91538652e+04   3.05156992e+04\n",
      "    2.15593711e+04  -7.31254834e+03   9.83252422e+04   2.70646641e+04\n",
      "    9.08193652e+03   4.16912891e+04  -2.10357031e+03  -1.65374727e+04\n",
      "   -3.36087227e+04   3.42214844e+04   4.43494414e+04   9.74003125e+04\n",
      "    4.16871406e+04   4.87266836e+04   1.69597617e+04   8.11383984e+04\n",
      "    5.24082031e+04   2.35942070e+04   1.29667930e+04   2.66289102e+04\n",
      "    4.53098359e+04   8.41188359e+04   3.52045820e+04   6.93648730e+03\n",
      "   -1.43304482e+04   2.57708340e+04   1.02110594e+05   1.19301016e+05\n",
      "    3.04458613e+04   4.62109961e+04   4.13220781e+04   1.91430566e+03\n",
      "    2.75733477e+04   2.56195957e+04   1.44747471e+04   2.08998398e+04\n",
      "    3.43462344e+04   3.10017461e+04   3.84115547e+04   4.30756602e+04\n",
      "    1.91334961e+04   4.45743359e+03  -1.07271719e+04]]\n"
     ]
    }
   ],
   "source": [
    "\"\"\"\n",
    "Make predictions on validation set\n",
    "\"\"\"\n",
    "print(\"Predictions per alpha\")\n",
    "preds = model.predict(valid_x, valid_y)\n",
    "print(preds)"
   ]
  },
  {
   "cell_type": "code",
   "execution_count": 18,
   "metadata": {},
   "outputs": [
    {
     "name": "stdout",
     "output_type": "stream",
     "text": [
      "RMSE for alpha =  [ 0.]\n",
      "45457.7528861\n"
     ]
    }
   ],
   "source": [
    "\"\"\"\n",
    "Get logloss or rmse for validation set per alpha\n",
    "\"\"\"\n",
    "for i in range(model.n_alphas):\n",
    "    if family == \"logistic\":\n",
    "        print(\"Logloss for alpha = \",model.alphas_best[i])\n",
    "        print(metrics.log_loss(valid_y, preds[i]))\n",
    "    else:\n",
    "        print(\"RMSE for alpha = \",model.alphas_best[i])\n",
    "        print(metrics.rmse(valid_y,preds[i]))"
   ]
  },
  {
   "cell_type": "code",
   "execution_count": null,
   "metadata": {
    "collapsed": true
   },
   "outputs": [],
   "source": []
  }
 ],
 "metadata": {
  "kernelspec": {
   "display_name": "env",
   "language": "python",
   "name": "env"
  },
  "language_info": {
   "codemirror_mode": {
    "name": "ipython",
    "version": 3
   },
   "file_extension": ".py",
   "mimetype": "text/x-python",
   "name": "python",
   "nbconvert_exporter": "python",
   "pygments_lexer": "ipython3",
   "version": "3.6.1"
  }
 },
 "nbformat": 4,
 "nbformat_minor": 2
}
