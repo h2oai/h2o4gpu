{
 "cells": [
  {
   "cell_type": "code",
   "execution_count": 1,
   "metadata": {},
   "outputs": [
    {
     "name": "stdout",
     "output_type": "stream",
     "text": [
      "Populating the interactive namespace from numpy and matplotlib\n",
      "Mon Nov 27 18:26:09 2017       \n",
      "+-----------------------------------------------------------------------------+\n",
      "| NVIDIA-SMI 384.98                 Driver Version: 384.98                    |\n",
      "|-------------------------------+----------------------+----------------------+\n",
      "| GPU  Name        Persistence-M| Bus-Id        Disp.A | Volatile Uncorr. ECC |\n",
      "| Fan  Temp  Perf  Pwr:Usage/Cap|         Memory-Usage | GPU-Util  Compute M. |\n",
      "|===============================+======================+======================|\n",
      "|   0  GeForce GTX 1080    Off  | 00000000:02:00.0  On |                  N/A |\n",
      "| 27%   32C    P8    10W / 180W |    459MiB /  8113MiB |      0%      Default |\n",
      "+-------------------------------+----------------------+----------------------+\n",
      "|   1  GeForce GTX 1080    Off  | 00000000:81:00.0 Off |                  N/A |\n",
      "| 27%   34C    P8    10W / 180W |    412MiB /  8114MiB |      0%      Default |\n",
      "+-------------------------------+----------------------+----------------------+\n",
      "                                                                               \n",
      "+-----------------------------------------------------------------------------+\n",
      "| Processes:                                                       GPU Memory |\n",
      "|  GPU       PID   Type   Process name                             Usage      |\n",
      "|=============================================================================|\n",
      "|    0      1378      G   /usr/lib/xorg/Xorg                            60MiB |\n",
      "|    0      8668      C   ...envs/h2o4gpu_cuda9_nonccl/bin/python3.6   387MiB |\n",
      "|    1      8668      C   ...envs/h2o4gpu_cuda9_nonccl/bin/python3.6   401MiB |\n",
      "+-----------------------------------------------------------------------------+\n",
      "['', '/home/navdeep/h2o4gpu/h2o4gpu_env/lib/python36.zip', '/home/navdeep/h2o4gpu/h2o4gpu_env/lib/python3.6', '/home/navdeep/h2o4gpu/h2o4gpu_env/lib/python3.6/lib-dynload', '/usr/lib/python3.6', '/home/navdeep/h2o4gpu/h2o4gpu_env/lib/python3.6/site-packages', '/home/navdeep/h2o4gpu/h2o4gpu_env/lib/python3.6/site-packages/IPython/extensions', '/home/navdeep/.ipython']\n"
     ]
    }
   ],
   "source": [
    "%pylab inline\n",
    "import numpy as np\n",
    "import time\n",
    "import sys\n",
    "import logging\n",
    "from sklearn.decomposition import TruncatedSVD as sklearnsvd\n",
    "from h2o4gpu.solvers import TruncatedSVDH2O\n",
    "!nvidia-smi\n",
    "import sys\n",
    "print(sys.path)\n",
    "import py3nvml ## pip install -e git+https://github.com/fbcotter/py3nvml#egg=py3nvml\n",
    "import subprocess"
   ]
  },
  {
   "cell_type": "code",
   "execution_count": 5,
   "metadata": {},
   "outputs": [
    {
     "name": "stdout",
     "output_type": "stream",
     "text": [
      "CPU times: user 9.52 s, sys: 2.34 s, total: 11.9 s\n",
      "Wall time: 11.9 s\n"
     ]
    }
   ],
   "source": [
    "%%time\n",
    "\n",
    "#Set up matrix (m x n)\n",
    "np.random.seed(1234)\n",
    "m=1000000; n=1000\n",
    "X = np.random.rand(m, n)"
   ]
  },
  {
   "cell_type": "code",
   "execution_count": 6,
   "metadata": {},
   "outputs": [
    {
     "name": "stdout",
     "output_type": "stream",
     "text": [
      "Total time for h2o4gpu tsvd is 23.424857139587402\n",
      "h2o4gpu tsvd Singular Values\n",
      "[ 15812.88671875    297.49621582    297.44616699    297.44335938\n",
      "    297.40750122    297.27206421    297.15374756    297.15274048\n",
      "    297.1293335     297.11172485]\n",
      "h2o4gpu tsvd Components (V^T)\n",
      "[[ 0.03163058  0.03162992  0.03163275 ...,  0.03162456  0.03163696\n",
      "   0.03161279]\n",
      " [ 0.01223209  0.04251729  0.04975689 ...,  0.02256169  0.00227219\n",
      "   0.07671832]\n",
      " [-0.01368417  0.0134809   0.00925448 ...,  0.047869   -0.01042728  0.        ]\n",
      " ..., \n",
      " [-0.04871583  0.01706943  0.00872214 ..., -0.02839655  0.00631769  0.        ]\n",
      " [-0.05167235  0.00438044  0.04519537 ...,  0.03934188 -0.05190337  0.        ]\n",
      " [-0.01104993 -0.01513761 -0.06328709 ...,  0.01015666 -0.0098396\n",
      "   0.00966368]]\n",
      "h2o4gpu tsvd Explained Variance\n",
      "[ 0.08008449  0.08008973  0.08009056  0.08009108  0.08008778  0.08008957\n",
      "  0.0800974   0.08008811  0.08008578  0.08009447]\n",
      "h2o4gpu tsvd Explained Variance Ratio\n",
      "[ 0.00097406  0.00097413  0.00097414  0.00097414  0.0009741   0.00097413\n",
      "  0.00097422  0.00097411  0.00097408  0.00097419]\n"
     ]
    }
   ],
   "source": [
    "k = 10\n",
    "start_time = time.time()\n",
    "h2o4gpu_tsvd = TruncatedSVDH2O(n_components=k)\n",
    "h2o4gpu_tsvd.fit(X)\n",
    "end_time = time.time() - start_time\n",
    "print(\"Total time for h2o4gpu tsvd is \" + str(end_time))\n",
    "print(\"h2o4gpu tsvd Singular Values\")\n",
    "print(h2o4gpu_tsvd.singular_values_)\n",
    "print(\"h2o4gpu tsvd Components (V^T)\")\n",
    "print(h2o4gpu_tsvd.components_)\n",
    "print(\"h2o4gpu tsvd Explained Variance\")\n",
    "print(h2o4gpu_tsvd.explained_variance_)\n",
    "print(\"h2o4gpu tsvd Explained Variance Ratio\")\n",
    "print(h2o4gpu_tsvd.explained_variance_ratio_)"
   ]
  }
 ],
 "metadata": {
  "kernelspec": {
   "display_name": "h2o4gpu",
   "language": "python",
   "name": "h2o4gpu_env"
  },
  "language_info": {
   "codemirror_mode": {
    "name": "ipython",
    "version": 3
   },
   "file_extension": ".py",
   "mimetype": "text/x-python",
   "name": "python",
   "nbconvert_exporter": "python",
   "pygments_lexer": "ipython3",
   "version": "3.6.2"
  }
 },
 "nbformat": 4,
 "nbformat_minor": 2
}
