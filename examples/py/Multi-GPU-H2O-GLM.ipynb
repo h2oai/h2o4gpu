{
 "cells": [
  {
   "cell_type": "markdown",
   "metadata": {},
   "source": [
    "# H2O.ai GPU Edition Machine Learning $-$ Multi-GPU GLM Demo"
   ]
  },
  {
   "cell_type": "markdown",
   "metadata": {},
   "source": [
    "### In this demo, we will train 4000 regularized linear regression models (aka Generalized Linear Models or GLMs) on the U.S. Census dataset, with the goal to predict the earned income of a person, given approximately 10000 features such as gender, age, occupation, zip code, etc.\n",
    "\n",
    "### The dataset is about 2GB in memory (50k rows, 10k cols, single-precision floating-point values), so it easily fits onto the GPU memory.\n",
    "\n",
    "### By using multiple GPUs, we are able to speed up this process significantly, and can train about 40 models per second (on a DGX-1 with 8 GPUs) vs 1 model per second on dual-Xeon server."
   ]
  },
  {
   "cell_type": "markdown",
   "metadata": {},
   "source": [
    "### Import Dependencies"
   ]
  },
  {
   "cell_type": "code",
   "execution_count": 1,
   "metadata": {
    "collapsed": true
   },
   "outputs": [],
   "source": [
    "## First time only: Install dependencies\n",
    "#!pip install https://s3.amazonaws.com/h2o-beta-release/goai/h2o4gpu-0.0.2-py2.py3-none-any.whl\n",
    "#!pip install Cython pandas seaborn psutil feather_format\n",
    "#!pip install -e \"git+https://github.com/fbcotter/py3nvml#egg=py3nvml\"\n",
    "\n",
    "## Now restart the kernel to get py3nvml to work"
   ]
  },
  {
   "cell_type": "code",
   "execution_count": 2,
   "metadata": {
    "collapsed": true
   },
   "outputs": [],
   "source": [
    "%reset -f\n",
    "%matplotlib inline\n",
    "%matplotlib inline\n",
    "%config InlineBackend.figure_format = 'retina'"
   ]
  },
  {
   "cell_type": "markdown",
   "metadata": {},
   "source": [
    "### Import Data Frame and create raw X and y arrays"
   ]
  },
  {
   "cell_type": "code",
   "execution_count": 3,
   "metadata": {
    "scrolled": true
   },
   "outputs": [
    {
     "name": "stdout",
     "output_type": "stream",
     "text": [
      "Time to read data via feather: 1.013885498046875\n"
     ]
    }
   ],
   "source": [
    "import os, sys, time\n",
    "import feather\n",
    "\n",
    "if not os.path.exists(\"ipums_feather\"):\n",
    "   !wget https://s3.amazonaws.com/h2o-public-test-data/bigdata/laptop/ipums_feather.gz\n",
    "   !gunzip ipums_feather.gz\n",
    "t0 = time.time()\n",
    "df = feather.read_dataframe(\"ipums_feather\")\n",
    "t1 = time.time()\n",
    "print(\"Time to read data via feather: %r\" % (t1-t0))"
   ]
  },
  {
   "cell_type": "code",
   "execution_count": 4,
   "metadata": {
    "collapsed": true
   },
   "outputs": [],
   "source": [
    "## We predict the last column \"INCEARN\" - Income earned\n",
    "target = df.columns[-1]\n",
    "cols = [c for c in df.columns if c != target]"
   ]
  },
  {
   "cell_type": "code",
   "execution_count": 5,
   "metadata": {},
   "outputs": [
    {
     "data": {
      "text/plain": [
       "<matplotlib.axes._subplots.AxesSubplot at 0x7fadcf6d84a8>"
      ]
     },
     "execution_count": 5,
     "metadata": {},
     "output_type": "execute_result"
    },
    {
     "data": {
      "image/png": "[encoded data removed]",
      "text/plain": [
       "<matplotlib.figure.Figure at 0x7fae3c1dfd30>"
      ]
     },
     "metadata": {
      "image/png": {
       "height": 250,
       "width": 395
      }
     },
     "output_type": "display_data"
    }
   ],
   "source": [
    "df[target].hist(bins=50)"
   ]
  },
  {
   "cell_type": "code",
   "execution_count": 6,
   "metadata": {},
   "outputs": [
    {
     "name": "stdout",
     "output_type": "stream",
     "text": [
      "(55776, 9732)\n",
      "(55776,)\n"
     ]
    }
   ],
   "source": [
    "import numpy as np\n",
    "\n",
    "X = np.array(df.ix[:,cols], order='f').astype('float32')\n",
    "y = np.array(df[target].values, dtype='float32')\n",
    "print(X.shape)\n",
    "print(y.shape)"
   ]
  },
  {
   "cell_type": "markdown",
   "metadata": {},
   "source": [
    "### Split the dataset into Training (80%) and Validation (20%)"
   ]
  },
  {
   "cell_type": "code",
   "execution_count": 7,
   "metadata": {
    "scrolled": true
   },
   "outputs": [
    {
     "name": "stdout",
     "output_type": "stream",
     "text": [
      "fortran order=1\n",
      "Original data rows=55776 cols=9732\n",
      "Training  rows=44621\n",
      "Vaidation rows=11155\n",
      "New data rows=44621 cols=9733\n"
     ]
    }
   ],
   "source": [
    "intercept = True\n",
    "validFraction=0.2\n",
    "standardize = 0\n",
    "lambda_min_ratio = 1e-7\n",
    "\n",
    "if standardize:\n",
    "    print (\"implement standardization transformer\")\n",
    "    exit()\n",
    "\n",
    "# Setup Train/validation Set Split\n",
    "morig = X.shape[0]\n",
    "norig = X.shape[1]\n",
    "fortran = X.flags.f_contiguous\n",
    "print(\"fortran order=%d\" % (fortran))\n",
    "print(\"Original data rows=%d cols=%d\" % (morig,norig))\n",
    "\n",
    "# Do train/valid split\n",
    "HO=int(validFraction*morig)\n",
    "H=morig-HO\n",
    "print(\"Training  rows=%d\" % (H))\n",
    "print(\"Vaidation rows=%d\" % (HO))\n",
    "trainX = np.copy(X[0:H,:])\n",
    "trainY = np.copy(y[0:H])\n",
    "validX = np.copy(X[H:morig,:])\n",
    "validY = np.copy(y[H:morig])\n",
    "trainW = np.copy(trainY)*0.0 + 1.0 # constant unity weight\n",
    "\n",
    "mTrain = trainX.shape[0]\n",
    "mvalid = validX.shape[0]\n",
    "\n",
    "# if using upload_data and fit_ptr, then have to create own intercept as last column in trainX and validX\n",
    "if intercept:\n",
    "    trainX = np.hstack([trainX, np.ones((trainX.shape[0],1),dtype=trainX.dtype)])\n",
    "    validX = np.hstack([validX, np.ones((validX.shape[0],1),dtype=validX.dtype)])\n",
    "    n = trainX.shape[1]\n",
    "print(\"New data rows=%d cols=%d\" % (mTrain,n))"
   ]
  },
  {
   "cell_type": "markdown",
   "metadata": {},
   "source": [
    "### Define some helper methods for plotting and running the algorithm"
   ]
  },
  {
   "cell_type": "code",
   "execution_count": 8,
   "metadata": {
    "collapsed": true
   },
   "outputs": [],
   "source": [
    "import seaborn as sns\n",
    "sns.set_style(\"whitegrid\")\n",
    "\n",
    "def new_alpha(row_fold):\n",
    "    if row_fold == 0:\n",
    "        return -0.025\n",
    "    elif row_fold == 1:\n",
    "        return -0.05\n",
    "    elif row_fold == 3:\n",
    "        return 0.025\n",
    "    elif row_fold == 4:\n",
    "        return 0.05\n",
    "    else: return 0\n",
    "\n",
    "def plot_cpu_perf(axis, cpu_labels, cpu_snapshot):\n",
    "    axis.cla()\n",
    "    axis.grid(False)\n",
    "    axis.set_ylim([0,100])\n",
    "    axis.set_ylabel('Percent', labelpad=2, fontsize = 14)\n",
    "    axis.bar(cpu_labels, cpu_snapshot, color='dodgerblue', edgecolor='none')\n",
    "    axis.set_title('CPU Utilization', fontsize = 16)\n",
    "    \n",
    "def plot_gpu_perf(axis, gpu_labels, gpu_snapshot):\n",
    "    axis.cla()\n",
    "    axis.grid(False)\n",
    "    axis.set_ylim([0,100])\n",
    "    axis.set_xticks(gpu_labels)\n",
    "    axis.set_ylabel('Percent', labelpad=2, fontsize = 14)\n",
    "    axis.bar(gpu_labels, gpu_snapshot, width =0.5, color = 'limegreen',align='center', edgecolor='none')\n",
    "    axis.set_title('GPU Utilization', fontsize = 16)\n",
    "    \n",
    "def plot_glm_results(axis, results, best_rmse, cb):\n",
    "    axis.cla()\n",
    "    axis.set_xscale('log')\n",
    "    axis.set_xlim([1e2, 1e9])\n",
    "    axis.set_ylim([-0.12, 1.12])\n",
    "    axis.set_yticks([x/7. for x in range(0,8)])\n",
    "    axis.set_ylabel('Parameter 1:  '+r'$\\alpha$', fontsize = 16)\n",
    "    axis.set_xlabel('Parameter 2:  '+r'$\\lambda$', fontsize = 16)\n",
    "    num_models = min(4000,int(4000*results.shape[0]/2570))\n",
    "    axis.set_title('Elastic Net Models Trained and Evaluated: ' + str(num_models), fontsize = 16)\n",
    "\n",
    "    try:\n",
    "        from matplotlib.colors import ListedColormap\n",
    "        cm = ListedColormap(sns.color_palette(\"RdYlGn\", 10).as_hex())\n",
    "        cf = axis.scatter(results['lambda'], results['alpha_prime'], c=results['rel_acc'], \n",
    "                    cmap=cm, vmin=0, vmax=1, s=60, lw=0)\n",
    "        axis.plot(best_rmse['lambda'],best_rmse['alpha_prime'], 'o',\n",
    "            ms=15, mec='k', mfc='none', mew=2)\n",
    "\n",
    "        if not cb:\n",
    "            cb = pl.colorbar(cf, ax=axis)\n",
    "            cb.set_label('Relative  Validation  Accuracy', rotation=270, \n",
    "                         labelpad=18, fontsize = 16)   \n",
    "        cb.update_normal(cf)\n",
    "    except:\n",
    "        #print(\"plot_glm_results exception -- no frame\")\n",
    "        pass\n",
    "    \n",
    "def RunAnimation(arg):\n",
    "    import os, sys, time\n",
    "    import subprocess\n",
    "    import psutil\n",
    "    import pylab as pl\n",
    "    from IPython import display\n",
    "    import matplotlib.gridspec as gridspec\n",
    "    import seaborn as sns\n",
    "    import pandas as pd\n",
    "    import numpy as np\n",
    "    \n",
    "\n",
    "    print(\"RunAnimation\")\n",
    "    sys.stdout.flush()\n",
    "    \n",
    "    deviceCount = arg\n",
    "    # Need this only for animation of GPU usage to be consistent with \n",
    "    #from py3nvml.py3nvml import *\n",
    "    import py3nvml\n",
    "    maxNGPUS = int(subprocess.check_output(\"nvidia-smi -L | wc -l\", shell=True))\n",
    "    print(\"\\nNumber of GPUS:\", maxNGPUS)\n",
    "\n",
    "    py3nvml.py3nvml.nvmlInit()\n",
    "    total_deviceCount = py3nvml.py3nvml.nvmlDeviceGetCount()\n",
    "    if deviceCount == -1:\n",
    "        deviceCount = total_deviceCount\n",
    "    #for i in range(deviceCount):\n",
    "    #    handle = nvmlDeviceGetHandleByIndex(i)\n",
    "    #    print(\"Device {}: {}\".format(i, nvmlDeviceGetName(handle)))\n",
    "    #print (\"Driver Version:\", nvmlSystemGetDriverVersion())\n",
    "    print(\"Animation deviceCount=%d\" % (deviceCount))\n",
    "    \n",
    "    file = os.getcwd() + \"/error.txt\"\n",
    "    print(\"opening %s\" % (file))\n",
    "    fig = pl.figure(figsize = (9,9))\n",
    "    pl.rcParams['xtick.labelsize'] = 14\n",
    "    pl.rcParams['ytick.labelsize'] = 14\n",
    "    gs = gridspec.GridSpec(3, 2, wspace=0.3, hspace=0.4)\n",
    "    ax1 = pl.subplot(gs[0,-2])\n",
    "    ax2 = pl.subplot(gs[0,1])\n",
    "    ax3 = pl.subplot(gs[1:,:])\n",
    "    fig.suptitle('H2O.ai Machine Learning $-$ Generalized Linear Modeling', size=18)\n",
    "\n",
    "    pl.gcf().subplots_adjust(bottom=0.2)\n",
    "\n",
    "    #cb = False\n",
    "    from matplotlib.colors import ListedColormap\n",
    "    cm = ListedColormap(sns.color_palette(\"RdYlGn\", 10).as_hex())\n",
    "    cc = ax3.scatter([0.001, 0.001], [0,0], c =[0,1], cmap = cm)\n",
    "    cb = pl.colorbar(cc, ax=ax3)\n",
    "    os.system(\"mkdir -p images\")\n",
    "    i=0\n",
    "    while(True):\n",
    "        #try:\n",
    "            #print(\"In try i=%d\" % i)\n",
    "            #sys.stdout.flush()\n",
    "            \n",
    "            #cpu\n",
    "            snapshot = psutil.cpu_percent(percpu=True)\n",
    "            cpu_labels = range(1,len(snapshot)+1)\n",
    "            plot_cpu_perf(ax1, cpu_labels, snapshot)\n",
    "    \n",
    "            #gpu\n",
    "            gpu_snapshot = []\n",
    "            gpu_labels = list(range(1,deviceCount+1))\n",
    "            import py3nvml\n",
    "            for j in range(deviceCount):\n",
    "                handle = py3nvml.py3nvml.nvmlDeviceGetHandleByIndex(j)\n",
    "                util = py3nvml.py3nvml.nvmlDeviceGetUtilizationRates(handle)\n",
    "                gpu_snapshot.append(util.gpu)\n",
    "            gpu_snapshot = gpu_snapshot   \n",
    "            plot_gpu_perf(ax2, gpu_labels, gpu_snapshot)\n",
    "    \n",
    "            res = pd.read_csv(file, sep=\"\\s+\",header=None,names=['time','pass','fold','a','i','alpha','lambda','trainrmse','ivalidrmse','validrmse'])\n",
    "            \n",
    "            res['rel_acc'] = ((42665- res['validrmse'])/(42665-31000))\n",
    "            res['alpha_prime'] = res['alpha'] + res['fold'].apply(lambda x: new_alpha(x))\n",
    "\n",
    "            best = res.ix[res['rel_acc']==np.max(res['rel_acc']),:]\n",
    "            plot_glm_results(ax3, res, best.tail(1), cb)\n",
    "            # flag for colorbar to avoid redrawing\n",
    "            #cb = True\n",
    "\n",
    "            # Add footnotes\n",
    "            footnote_text = \"*U.S. Census dataset (predict Income): 45k rows, 10k cols\\nParameters: 5-fold cross-validation, \" + r'$\\alpha = \\{\\frac{i}{7},i=0\\ldots7\\}$' + \", \"\\\n",
    "   'full $\\lambda$-' + \"search\"\n",
    "            #pl.figtext(.05, -.04, footnote_text, fontsize = 14,)\n",
    "            pl.annotate(footnote_text, (0,0), (-30, -50), fontsize = 12,\n",
    "                        xycoords='axes fraction', textcoords='offset points', va='top')\n",
    "\n",
    "            #update the graphics\n",
    "            display.display(pl.gcf())\n",
    "            display.clear_output(wait=True)\n",
    "            time.sleep(0.01)\n",
    "\n",
    "            #save the images\n",
    "            saveimage=0\n",
    "            if saveimage:\n",
    "                file_name = './images/glm_run_%04d.png' % (i,)\n",
    "                pl.savefig(file_name, dpi=200)\n",
    "            i=i+1\n",
    "        \n",
    "        #except KeyboardInterrupt:\n",
    "        #    break\n",
    "        #except:\n",
    "        #    #print(\"Could not Create Frame\")\n",
    "        #    pass\n",
    "        \n",
    "def RunH2Oaiglm(arg):\n",
    "    import h2o4gpu as h2o4gpu\n",
    "\n",
    "    intercept, lambda_min_ratio, nFolds, n_alphas, n_lambdas, n_gpus = arg\n",
    "    \n",
    "    print(\"Begin Setting up Solver\")\n",
    "    os.system(\"rm -f error.txt ; touch error.txt ; rm -f varimp.txt ; touch varimp.txt\") ## for visualization\n",
    "    enet = h2o4gpu.GLM(n_gpus=n_gpus, fit_intercept=intercept, lambda_min_ratio=lambda_min_ratio, n_lambdas=n_lambdas, n_folds=n_folds, n_alphas=n_alphas)\n",
    "    print(\"End Setting up Solver\")\n",
    "\n",
    "    ## First, get backend pointers\n",
    "    sourceDev=0\n",
    "    t0 = time.time()\n",
    "    a,b,c,d,e = enet.upload_data(trainX, trainY, validX, validY, trainW, source_dev=sourceDev)\n",
    "    t1 = time.time()\n",
    "    print(\"Time to ingest data: %r\" % (t1-t0))\n",
    "\n",
    "    ## Solve\n",
    "    if 1==1:\n",
    "        print(\"Solving\")\n",
    "        t0 = time.time()\n",
    "        order='c' if fortran else 'r'\n",
    "        double_precision=0 # Not used\n",
    "        store_full_path=0\n",
    "        enet.fit_ptr(mTrain, n, mvalid, double_precision, order, a, b, c, d, e, source_dev=sourceDev)\n",
    "        t1 = time.time()\n",
    "        print(\"Done Solving\")\n",
    "        print(\"Time to train H2O AI GLM: %r\" % (t1-t0))"
   ]
  },
  {
   "cell_type": "markdown",
   "metadata": {},
   "source": [
    "### Train 4000 Elastic Net Models (5-fold cross-validation, 8 $\\alpha$ values, 100 $\\lambda$ values)"
   ]
  },
  {
   "cell_type": "code",
   "execution_count": 9,
   "metadata": {
    "collapsed": true
   },
   "outputs": [],
   "source": [
    "import subprocess\n",
    "import concurrent.futures\n",
    "from concurrent.futures import ProcessPoolExecutor\n",
    "\n",
    "lambda_min_ratio=1E-9\n",
    "n_folds=5\n",
    "n_alphas=8\n",
    "n_lambdas=100\n",
    "n_gpus=-1 # -1 means use all GPUs\n",
    "\n",
    "arg = intercept, lambda_min_ratio, n_folds, n_alphas, n_lambdas, n_gpus\n",
    "from threading import Thread\n",
    "background_thread = Thread(target=RunH2Oaiglm, args=(arg,))\n",
    "background_thread.start()\n",
    "#futures = []\n",
    "#Executor = ProcessPoolExecutor(max_workers=1)\n",
    "#futures.append(Executor.submit(RunH2Oaiglm, arg)) ## run in separate process"
   ]
  },
  {
   "cell_type": "code",
   "execution_count": 10,
   "metadata": {
    "scrolled": false
   },
   "outputs": [
    {
     "name": "stdout",
     "output_type": "stream",
     "text": [
      "Begin Setting up Solver\n",
      "End Setting up Solver\n"
     ]
    },
    {
     "name": "stderr",
     "output_type": "stream",
     "text": [
      "Exception in thread Thread-4:\n",
      "Traceback (most recent call last):\n",
      "  File \"/home/jon/.pyenv/versions/3.6.1/lib/python3.6/threading.py\", line 916, in _bootstrap_inner\n",
      "    self.run()\n",
      "  File \"/home/jon/.pyenv/versions/3.6.1/lib/python3.6/threading.py\", line 864, in run\n",
      "    self._target(*self._args, **self._kwargs)\n",
      "  File \"<ipython-input-8-b157d5a006ad>\", line 180, in RunH2Oaiglm\n",
      "    a,b,c,d,e = enet.upload_data(trainX, trainY, validX, validY, trainW, source_dev=sourceDev)\n",
      "  File \"/home/jon/.pyenv/versions/3.6.1/lib/python3.6/site-packages/h2o4gpu/solvers/elastic_net.py\", line 1448, in upload_data\n",
      "    c_int(self.ord),\n",
      "TypeError: an integer is required (got type NoneType)\n",
      "\n"
     ]
    }
   ],
   "source": [
    "#RunAnimation(n_gpus)\n",
    "#concurrent.futures.wait(futures)"
   ]
  },
  {
   "cell_type": "code",
   "execution_count": null,
   "metadata": {
    "collapsed": true
   },
   "outputs": [],
   "source": []
  }
 ],
 "metadata": {
  "kernelspec": {
   "display_name": "Python 3.6.1(pyenv)",
   "language": "python",
   "name": "python3"
  },
  "language_info": {
   "codemirror_mode": {
    "name": "ipython",
    "version": 3
   },
   "file_extension": ".py",
   "mimetype": "text/x-python",
   "name": "python",
   "nbconvert_exporter": "python",
   "pygments_lexer": "ipython3",
   "version": "3.6.1"
  }
 },
 "nbformat": 4,
 "nbformat_minor": 2
}
