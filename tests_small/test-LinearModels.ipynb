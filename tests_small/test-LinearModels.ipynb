{
 "cells": [
  {
   "cell_type": "code",
   "execution_count": 1,
   "metadata": {
    "collapsed": true
   },
   "outputs": [],
   "source": [
    "import time\n",
    "import numpy as np\n",
    "import pandas as pd\n",
    "import matplotlib.pyplot as plt\n",
    "%matplotlib inline\n",
    "%config InlineBackend.figure_format = 'retina'\n",
    "\n",
    "from sklearn import datasets\n",
    "from sklearn import linear_model\n",
    "from sklearn.svm import l1_min_c\n",
    "#from sklearn.linear_model import LinearRegression\n",
    "\n",
    "import h2o4gpu"
   ]
  },
  {
   "cell_type": "markdown",
   "metadata": {},
   "source": [
    "## Linear Regression"
   ]
  },
  {
   "cell_type": "code",
   "execution_count": 2,
   "metadata": {},
   "outputs": [
    {
     "name": "stdout",
     "output_type": "stream",
     "text": [
      "Linear Regression\n",
      "Predicted: [[ 39.93816196  41.93188356]]\n",
      "Coefficients: [[  1.9937216   10.03233797]]\n",
      "------------\n",
      "scikit-learn\n",
      "Predicted: [ 40.  42.]\n",
      "Coefficients: [ 2.]\n"
     ]
    }
   ],
   "source": [
    "# y = ax + b\n",
    "\n",
    "X = np.array([1,2,3,4,5,6,7,8,9,10])\n",
    "X = X.astype(float)\n",
    "\n",
    "y = 2*X + 10\n",
    "\n",
    "X = X[:, np.newaxis]\n",
    "X = np.hstack([X, np.ones((X.shape[0],1), dtype=X.dtype)])\n",
    "\n",
    "lm = h2o4gpu.LinearRegression()\n",
    "lm.fit(X, y)\n",
    "\n",
    "print('Linear Regression')\n",
    "print('Predicted:', lm.predict(np.array([[15.0, 1.0], [16.0, 1.0]])))\n",
    "print('Coefficients:', lm.X)\n",
    "\n",
    "# sklearn\n",
    "X = np.array([1,2,3,4,5,6,7,8,9,10])\n",
    "X = X[:, np.newaxis]\n",
    "# Values to predict\n",
    "X_test = np.array([15, 16])\n",
    "X_test = X_test[:, np.newaxis]\n",
    "\n",
    "sk_lm = linear_model.LinearRegression()\n",
    "sk_lm.fit(X, np.transpose(y))\n",
    "\n",
    "print('------------')\n",
    "print('scikit-learn')\n",
    "print('Predicted:', sk_lm.predict(X_test))\n",
    "print('Coefficients:', sk_lm.coef_)"
   ]
  },
  {
   "cell_type": "markdown",
   "metadata": {},
   "source": [
    "## Logistic Regression"
   ]
  },
  {
   "cell_type": "markdown",
   "metadata": {},
   "source": [
    "### Data Prep"
   ]
  },
  {
   "cell_type": "code",
   "execution_count": 3,
   "metadata": {},
   "outputs": [
    {
     "data": {
      "text/plain": [
       "2    50\n",
       "1    50\n",
       "0    50\n",
       "Name: 0, dtype: int64"
      ]
     },
     "execution_count": 3,
     "metadata": {},
     "output_type": "execute_result"
    }
   ],
   "source": [
    "iris = datasets.load_iris()\n",
    "\n",
    "X = iris.data\n",
    "y = iris.target\n",
    "\n",
    "dfX = pd.DataFrame(X)\n",
    "dfy = pd.DataFrame(y)\n",
    "\n",
    "dfy.loc[:,0].value_counts()"
   ]
  },
  {
   "cell_type": "code",
   "execution_count": 4,
   "metadata": {
    "collapsed": true
   },
   "outputs": [],
   "source": [
    "# making it a binary problem\n",
    "# removing third class\n",
    "X = X[y != 2]\n",
    "y = y[y != 2]\n",
    "\n",
    "# subtracting the mean\n",
    "X -= np.mean(X, 0)"
   ]
  },
  {
   "cell_type": "code",
   "execution_count": 5,
   "metadata": {
    "collapsed": true
   },
   "outputs": [],
   "source": [
    "X_test = X[np.r_[40:50,90:100]]\n",
    "y_test = y[np.r_[40:50,90:100]]\n",
    "X = X[np.r_[:40,50:90]]\n",
    "y = y[np.r_[:40,50:90]]"
   ]
  },
  {
   "cell_type": "markdown",
   "metadata": {},
   "source": [
    "### sklearn logistic regression"
   ]
  },
  {
   "cell_type": "code",
   "execution_count": 6,
   "metadata": {
    "collapsed": true
   },
   "outputs": [],
   "source": [
    "cs = l1_min_c(X, y, loss='log') * np.logspace(0, 3)"
   ]
  },
  {
   "cell_type": "code",
   "execution_count": 7,
   "metadata": {},
   "outputs": [
    {
     "name": "stdout",
     "output_type": "stream",
     "text": [
      "0.05513119697570801\n"
     ]
    }
   ],
   "source": [
    "start = time.time()\n",
    "clf = linear_model.LogisticRegression(C = 1.0, penalty = 'l1'\n",
    "                         #, tol=1e-6\n",
    "                        )\n",
    "coefs_ = []\n",
    "for c in cs:\n",
    "    clf.set_params(C=c)\n",
    "    clf.fit(X, y)\n",
    "    coefs_.append(clf.coef_.ravel().copy())\n",
    "print(time.time() - start)"
   ]
  },
  {
   "cell_type": "code",
   "execution_count": 8,
   "metadata": {},
   "outputs": [
    {
     "data": {
      "image/png": "[encoded data removed]",
      "text/plain": [
       "<matplotlib.figure.Figure at 0x7f6fb597a5f8>"
      ]
     },
     "metadata": {
      "image/png": {
       "height": 277,
       "width": 377
      }
     },
     "output_type": "display_data"
    },
    {
     "name": "stdout",
     "output_type": "stream",
     "text": [
      "(50, 4)\n"
     ]
    }
   ],
   "source": [
    "coefs_ = np.array(coefs_)\n",
    "plt.plot(np.log10(cs), coefs_)\n",
    "ymin, ymax = plt.ylim()\n",
    "plt.xlabel('log(C)')\n",
    "plt.ylabel('Coefficients')\n",
    "plt.title('Logistic Regression Path')\n",
    "plt.axis('tight')\n",
    "plt.show()\n",
    "print(coefs_.shape)"
   ]
  },
  {
   "cell_type": "code",
   "execution_count": 9,
   "metadata": {},
   "outputs": [
    {
     "data": {
      "text/plain": [
       "array([0, 0, 0, 0, 0, 0, 0, 0, 0, 0, 1, 1, 1, 1, 1, 1, 1, 1, 1, 1])"
      ]
     },
     "execution_count": 9,
     "metadata": {},
     "output_type": "execute_result"
    }
   ],
   "source": [
    "y_pred = clf.predict(X_test)\n",
    "y_pred"
   ]
  },
  {
   "cell_type": "code",
   "execution_count": 10,
   "metadata": {},
   "outputs": [
    {
     "data": {
      "text/plain": [
       "array([[  9.99932222e-01,   6.77780147e-05],\n",
       "       [  9.99932222e-01,   6.77780147e-05],\n",
       "       [  9.99932222e-01,   6.77780147e-05],\n",
       "       [  9.99531863e-01,   4.68136891e-04],\n",
       "       [  9.96774248e-01,   3.22575200e-03],\n",
       "       [  9.99870913e-01,   1.29086709e-04],\n",
       "       [  9.99531863e-01,   4.68136891e-04],\n",
       "       [  9.99870913e-01,   1.29086709e-04],\n",
       "       [  9.99754161e-01,   2.45838631e-04],\n",
       "       [  9.99870913e-01,   1.29086709e-04],\n",
       "       [  3.12226255e-05,   9.99968777e-01],\n",
       "       [  8.60677825e-06,   9.99991393e-01],\n",
       "       [  4.10754010e-04,   9.99589246e-01],\n",
       "       [  3.60215791e-02,   9.63978421e-01],\n",
       "       [  1.13258920e-04,   9.99886741e-01],\n",
       "       [  1.13258920e-04,   9.99886741e-01],\n",
       "       [  1.13258920e-04,   9.99886741e-01],\n",
       "       [  5.94670599e-05,   9.99940533e-01],\n",
       "       [  2.05212724e-01,   7.94787276e-01],\n",
       "       [  2.15698555e-04,   9.99784301e-01]])"
      ]
     },
     "execution_count": 10,
     "metadata": {},
     "output_type": "execute_result"
    }
   ],
   "source": [
    "clf.predict_proba(X_test)"
   ]
  },
  {
   "cell_type": "markdown",
   "metadata": {},
   "source": [
    "### H2O4GPU"
   ]
  },
  {
   "cell_type": "code",
   "execution_count": 11,
   "metadata": {
    "collapsed": true
   },
   "outputs": [],
   "source": [
    "classification = True"
   ]
  },
  {
   "cell_type": "code",
   "execution_count": 12,
   "metadata": {
    "collapsed": true
   },
   "outputs": [],
   "source": [
    "logreg = h2o4gpu.LogisticRegression(alpha_max = 1.0\n",
    "                                    , alpha_min = 1.0\n",
    "                                   )"
   ]
  },
  {
   "cell_type": "code",
   "execution_count": 13,
   "metadata": {},
   "outputs": [
    {
     "name": "stdout",
     "output_type": "stream",
     "text": [
      "0.9965429306030273\n"
     ]
    },
    {
     "data": {
      "text/plain": [
       "<h2o4gpu.solvers.logistic.LogisticRegression at 0x7f6fb08b5940>"
      ]
     },
     "execution_count": 13,
     "metadata": {},
     "output_type": "execute_result"
    }
   ],
   "source": [
    "start = time.time()\n",
    "model = logreg.fit(X, y)\n",
    "print(time.time() - start)\n",
    "model"
   ]
  },
  {
   "cell_type": "code",
   "execution_count": 14,
   "metadata": {},
   "outputs": [
    {
     "data": {
      "text/plain": [
       "array([[ 0.5163793 ,  0.5907447 ,  0.58417682,  0.55988864,  0.50492926,\n",
       "         0.54436646,  0.47789073,  0.55462687,  0.45261082,  0.49840083,\n",
       "         0.53462668,  0.47810279,  0.50125192,  0.59493801,  0.54116415,\n",
       "         0.50917303,  0.52633727,  0.45435158,  0.602883  ,  0.52891951]])"
      ]
     },
     "execution_count": 14,
     "metadata": {},
     "output_type": "execute_result"
    }
   ],
   "source": [
    "y_pred_h2o = model.predict(X_test)\n",
    "y_pred_h2o"
   ]
  },
  {
   "cell_type": "code",
   "execution_count": 15,
   "metadata": {},
   "outputs": [
    {
     "name": "stdout",
     "output_type": "stream",
     "text": [
      "Xvsalpha\n",
      "[[-0.5599661  -0.01793422 -0.08567183  0.66957007]]\n",
      "[[-0.5599661  -0.01793422 -0.08567183  0.66957007]]\n",
      "np.shape(Xvsalpha)\n",
      "(1, 4)\n",
      "(1, 4)\n",
      "logloss_train\n",
      "[[ 0.68617965 -1.         -1.        ]]\n",
      "logloss_train\n",
      "[[ 0.68617965 -1.         -1.        ]]\n",
      "Best lambdas\n",
      "[[  1.48219694e-323]]\n",
      "[[  1.48219694e-323]]\n",
      "Best alphas\n",
      "[[ 1.]]\n",
      "[[ 1.]]\n",
      "Best tols\n",
      "[[ 0.01]]\n",
      "[[ 0.01]]\n"
     ]
    }
   ],
   "source": [
    "print(\"Xvsalpha\")\n",
    "print(logreg.x_vs_alphapure)\n",
    "print(model.x_vs_alphapure)\n",
    "\n",
    "print(\"np.shape(Xvsalpha)\")\n",
    "print(np.shape(logreg.x_vs_alphapure))\n",
    "print(np.shape(model.x_vs_alphapure))\n",
    "\n",
    "error_train = logreg.error_vs_alpha\n",
    "if classification:\n",
    "    print(\"logloss_train\")\n",
    "else:\n",
    "    print(\"rmse_train\")\n",
    "print(error_train)\n",
    "\n",
    "error_train = model.error_vs_alpha\n",
    "if classification:\n",
    "    print(\"logloss_train\")\n",
    "else:\n",
    "    print(\"rmse_train\")\n",
    "print(error_train)\n",
    "\n",
    "print(\"Best lambdas\")\n",
    "lambdas = logreg.lambdas_best\n",
    "print(lambdas)\n",
    "print(model.lambdas_best)\n",
    "\n",
    "print(\"Best alphas\")\n",
    "alphas = logreg.alphas_best\n",
    "print(alphas)\n",
    "print(model.alphas_best)\n",
    "\n",
    "print(\"Best tols\")\n",
    "tols = logreg.tols_best\n",
    "print(tols)\n",
    "print(model.tols_best)"
   ]
  },
  {
   "cell_type": "code",
   "execution_count": 16,
   "metadata": {},
   "outputs": [
    {
     "data": {
      "text/plain": [
       "array([[-0.5599661 , -0.01793422, -0.08567183,  0.66957007]])"
      ]
     },
     "execution_count": 16,
     "metadata": {},
     "output_type": "execute_result"
    }
   ],
   "source": [
    "logreg.x_vs_alphapure"
   ]
  },
  {
   "cell_type": "code",
   "execution_count": 17,
   "metadata": {},
   "outputs": [
    {
     "ename": "AttributeError",
     "evalue": "'LogisticRegression' object has no attribute 'x_vs_alpha_lambdapure'",
     "output_type": "error",
     "traceback": [
      "\u001b[0;31m---------------------------------------------------------------------------\u001b[0m",
      "\u001b[0;31mAttributeError\u001b[0m                            Traceback (most recent call last)",
      "\u001b[0;32m<ipython-input-17-13ae504034d8>\u001b[0m in \u001b[0;36m<module>\u001b[0;34m()\u001b[0m\n\u001b[0;32m----> 1\u001b[0;31m \u001b[0mmodel\u001b[0m\u001b[0;34m.\u001b[0m\u001b[0mX_full\u001b[0m\u001b[0;34m\u001b[0m\u001b[0m\n\u001b[0m",
      "\u001b[0;32m~/anaconda3/lib/python3.6/site-packages/h2o4gpu/solvers/elastic_net_base.py\u001b[0m in \u001b[0;36mX_full\u001b[0;34m(self)\u001b[0m\n\u001b[1;32m   1125\u001b[0m     \u001b[0;34m@\u001b[0m\u001b[0mproperty\u001b[0m\u001b[0;34m\u001b[0m\u001b[0m\n\u001b[1;32m   1126\u001b[0m     \u001b[0;32mdef\u001b[0m \u001b[0mX_full\u001b[0m\u001b[0;34m(\u001b[0m\u001b[0mself\u001b[0m\u001b[0;34m)\u001b[0m\u001b[0;34m:\u001b[0m\u001b[0;34m\u001b[0m\u001b[0m\n\u001b[0;32m-> 1127\u001b[0;31m         \u001b[0;32mreturn\u001b[0m \u001b[0mself\u001b[0m\u001b[0;34m.\u001b[0m\u001b[0mx_vs_alpha_lambdapure\u001b[0m\u001b[0;34m\u001b[0m\u001b[0m\n\u001b[0m\u001b[1;32m   1128\u001b[0m \u001b[0;34m\u001b[0m\u001b[0m\n\u001b[1;32m   1129\u001b[0m     \u001b[0;34m@\u001b[0m\u001b[0mproperty\u001b[0m\u001b[0;34m\u001b[0m\u001b[0m\n",
      "\u001b[0;31mAttributeError\u001b[0m: 'LogisticRegression' object has no attribute 'x_vs_alpha_lambdapure'"
     ]
    }
   ],
   "source": [
    "model.X_full"
   ]
  },
  {
   "cell_type": "code",
   "execution_count": 18,
   "metadata": {},
   "outputs": [
    {
     "data": {
      "text/plain": [
       "array([[-0.5599661 , -0.01793422, -0.08567183,  0.66957007]])"
      ]
     },
     "execution_count": 18,
     "metadata": {},
     "output_type": "execute_result"
    }
   ],
   "source": [
    "model.X_best"
   ]
  },
  {
   "cell_type": "code",
   "execution_count": 19,
   "metadata": {},
   "outputs": [
    {
     "name": "stdout",
     "output_type": "stream",
     "text": [
      "136.42706084251404\n"
     ]
    },
    {
     "data": {
      "text/plain": [
       "array([[[  3.06320700e-322]],\n",
       "\n",
       "       [[  2.22329541e-322]],\n",
       "\n",
       "       [[  1.58101007e-322]],\n",
       "\n",
       "       [[  1.13635099e-322]],\n",
       "\n",
       "       [[  8.39911598e-323]],\n",
       "\n",
       "       [[  5.92878775e-323]],\n",
       "\n",
       "       [[  4.44659081e-323]],\n",
       "\n",
       "       [[  2.96439388e-323]],\n",
       "\n",
       "       [[  1.97626258e-323]],\n",
       "\n",
       "       [[  1.48219694e-323]],\n",
       "\n",
       "       [[  9.88131292e-324]],\n",
       "\n",
       "       [[  4.94065646e-324]],\n",
       "\n",
       "       [[  4.94065646e-324]],\n",
       "\n",
       "       [[  4.94065646e-324]],\n",
       "\n",
       "       [[  4.94065646e-324]],\n",
       "\n",
       "       [[  4.94065646e-324]],\n",
       "\n",
       "       [[  4.94065646e-324]],\n",
       "\n",
       "       [[  4.94065646e-324]],\n",
       "\n",
       "       [[  4.94065646e-324]],\n",
       "\n",
       "       [[  4.94065646e-324]],\n",
       "\n",
       "       [[  4.94065646e-324]],\n",
       "\n",
       "       [[  4.94065646e-324]],\n",
       "\n",
       "       [[  4.94065646e-324]],\n",
       "\n",
       "       [[  4.94065646e-324]],\n",
       "\n",
       "       [[  4.94065646e-324]],\n",
       "\n",
       "       [[  4.94065646e-324]],\n",
       "\n",
       "       [[  4.94065646e-324]],\n",
       "\n",
       "       [[  4.94065646e-324]],\n",
       "\n",
       "       [[  4.94065646e-324]],\n",
       "\n",
       "       [[  4.94065646e-324]],\n",
       "\n",
       "       [[  4.94065646e-324]],\n",
       "\n",
       "       [[  4.94065646e-324]],\n",
       "\n",
       "       [[  4.94065646e-324]],\n",
       "\n",
       "       [[  4.94065646e-324]],\n",
       "\n",
       "       [[  4.94065646e-324]],\n",
       "\n",
       "       [[  4.94065646e-324]],\n",
       "\n",
       "       [[  4.94065646e-324]],\n",
       "\n",
       "       [[  4.94065646e-324]],\n",
       "\n",
       "       [[  4.94065646e-324]],\n",
       "\n",
       "       [[  4.94065646e-324]],\n",
       "\n",
       "       [[  4.94065646e-324]],\n",
       "\n",
       "       [[  4.94065646e-324]],\n",
       "\n",
       "       [[  4.94065646e-324]],\n",
       "\n",
       "       [[  4.94065646e-324]],\n",
       "\n",
       "       [[  4.94065646e-324]],\n",
       "\n",
       "       [[  4.94065646e-324]],\n",
       "\n",
       "       [[  4.94065646e-324]],\n",
       "\n",
       "       [[  4.94065646e-324]],\n",
       "\n",
       "       [[  4.94065646e-324]],\n",
       "\n",
       "       [[  4.94065646e-324]]])"
      ]
     },
     "execution_count": 19,
     "metadata": {},
     "output_type": "execute_result"
    }
   ],
   "source": [
    "logreg = h2o4gpu.LogisticRegression(alpha_max = 1.0, \n",
    "                                    alpha_min = 1.0,\n",
    "                                    give_full_path = 1,\n",
    "                                    n_lambdas = 50,\n",
    "                                    glm_stop_early = False\n",
    "                                   )\n",
    "start = time.time()\n",
    "logreg.fit(X, y)\n",
    "print(time.time() - start)\n",
    "logreg.lambdas_full"
   ]
  },
  {
   "cell_type": "markdown",
   "metadata": {},
   "source": [
    "#### 136 seconds for 80 x 4  training_frame seems excessive"
   ]
  },
  {
   "cell_type": "code",
   "execution_count": 20,
   "metadata": {},
   "outputs": [
    {
     "data": {
      "text/plain": [
       "array([[ 0.5163793 ,  0.5907447 ,  0.58417682,  0.55988864,  0.50492926,\n",
       "         0.54436646,  0.47789073,  0.55462687,  0.45261082,  0.49840083,\n",
       "         0.53462668,  0.47810279,  0.50125192,  0.59493801,  0.54116415,\n",
       "         0.50917303,  0.52633727,  0.45435158,  0.602883  ,  0.52891951]])"
      ]
     },
     "execution_count": 20,
     "metadata": {},
     "output_type": "execute_result"
    }
   ],
   "source": [
    "y_pred_h2o"
   ]
  },
  {
   "cell_type": "code",
   "execution_count": 25,
   "metadata": {},
   "outputs": [
    {
     "name": "stdout",
     "output_type": "stream",
     "text": [
      "Using GPU GLM solver with 2 GPUs\n",
      "no data\n",
      "no data\n",
      "no data\n",
      "Correct train inputs\n",
      "Detected np.float64 data\n",
      "Detected np.float64\n",
      "double precision fit\n"
     ]
    },
    {
     "data": {
      "text/plain": [
       "<h2o4gpu.solvers.elastic_net_base.GLM at 0x7f6f78f87550>"
      ]
     },
     "execution_count": 25,
     "metadata": {},
     "output_type": "execute_result"
    }
   ],
   "source": [
    "logreg_path = h2o4gpu.GLM(family='logistic', verbose=100)\n",
    "logreg_path.fit(X, y)"
   ]
  },
  {
   "cell_type": "code",
   "execution_count": 26,
   "metadata": {},
   "outputs": [
    {
     "name": "stdout",
     "output_type": "stream",
     "text": [
      "no data\n",
      "no data\n",
      "no data\n",
      "no data\n",
      "no data\n",
      "no data\n",
      "Correct prediction inputs\n",
      "Detected np.float64 data\n",
      "Detected np.float64\n",
      "double precision fit\n",
      "thecount=20 count_full_value=0 count_short_value=10 n=4 NUMALLOTHER=6 m_valid=20\n"
     ]
    },
    {
     "data": {
      "text/plain": [
       "array([[ 0.5163793 ,  0.5907447 ,  0.58417682,  0.55988864,  0.50492926,\n",
       "         0.54436646,  0.47789073,  0.55462687,  0.45261082,  0.49840083,\n",
       "         0.53462668,  0.47810279,  0.50125192,  0.59493801,  0.54116415,\n",
       "         0.50917303,  0.52633727,  0.45435158,  0.602883  ,  0.52891951]])"
      ]
     },
     "execution_count": 26,
     "metadata": {},
     "output_type": "execute_result"
    }
   ],
   "source": [
    "logreg_path.predict(X_test)"
   ]
  },
  {
   "cell_type": "markdown",
   "metadata": {},
   "source": [
    "### H2O3 Logistic Regression"
   ]
  },
  {
   "cell_type": "code",
   "execution_count": 27,
   "metadata": {
    "collapsed": true
   },
   "outputs": [],
   "source": [
    "import h2o\n",
    "from h2o.estimators import H2OGeneralizedLinearEstimator "
   ]
  },
  {
   "cell_type": "code",
   "execution_count": 28,
   "metadata": {},
   "outputs": [
    {
     "name": "stdout",
     "output_type": "stream",
     "text": [
      "Checking whether there is an H2O instance running at http://localhost:54321..... not found.\n",
      "Attempting to start a local H2O server...\n",
      "  Java Version: java version \"1.8.0_131\"; Java(TM) SE Runtime Environment (build 1.8.0_131-b11); Java HotSpot(TM) 64-Bit Server VM (build 25.131-b11, mixed mode)\n",
      "  Starting server from /home/karen/anaconda3/lib/python3.6/site-packages/h2o/backend/bin/h2o.jar\n",
      "  Ice root: /tmp/tmp6_q4vq_e\n",
      "  JVM stdout: /tmp/tmp6_q4vq_e/h2o_karen_started_from_python.out\n",
      "  JVM stderr: /tmp/tmp6_q4vq_e/h2o_karen_started_from_python.err\n",
      "  Server is running at http://127.0.0.1:54321\n",
      "Connecting to H2O server at http://127.0.0.1:54321... successful.\n"
     ]
    },
    {
     "data": {
      "text/html": [
       "<div style=\"overflow:auto\"><table style=\"width:50%\"><tr><td>H2O cluster uptime:</td>\n",
       "<td>02 secs</td></tr>\n",
       "<tr><td>H2O cluster version:</td>\n",
       "<td>3.10.4.8</td></tr>\n",
       "<tr><td>H2O cluster version age:</td>\n",
       "<td>3 months and 8 days </td></tr>\n",
       "<tr><td>H2O cluster name:</td>\n",
       "<td>H2O_from_python_karen_yko529</td></tr>\n",
       "<tr><td>H2O cluster total nodes:</td>\n",
       "<td>1</td></tr>\n",
       "<tr><td>H2O cluster free memory:</td>\n",
       "<td>22.70 Gb</td></tr>\n",
       "<tr><td>H2O cluster total cores:</td>\n",
       "<td>40</td></tr>\n",
       "<tr><td>H2O cluster allowed cores:</td>\n",
       "<td>40</td></tr>\n",
       "<tr><td>H2O cluster status:</td>\n",
       "<td>accepting new members, healthy</td></tr>\n",
       "<tr><td>H2O connection url:</td>\n",
       "<td>http://127.0.0.1:54321</td></tr>\n",
       "<tr><td>H2O connection proxy:</td>\n",
       "<td>None</td></tr>\n",
       "<tr><td>H2O internal security:</td>\n",
       "<td>False</td></tr>\n",
       "<tr><td>Python version:</td>\n",
       "<td>3.6.1 final</td></tr></table></div>"
      ],
      "text/plain": [
       "--------------------------  ------------------------------\n",
       "H2O cluster uptime:         02 secs\n",
       "H2O cluster version:        3.10.4.8\n",
       "H2O cluster version age:    3 months and 8 days\n",
       "H2O cluster name:           H2O_from_python_karen_yko529\n",
       "H2O cluster total nodes:    1\n",
       "H2O cluster free memory:    22.70 Gb\n",
       "H2O cluster total cores:    40\n",
       "H2O cluster allowed cores:  40\n",
       "H2O cluster status:         accepting new members, healthy\n",
       "H2O connection url:         http://127.0.0.1:54321\n",
       "H2O connection proxy:\n",
       "H2O internal security:      False\n",
       "Python version:             3.6.1 final\n",
       "--------------------------  ------------------------------"
      ]
     },
     "metadata": {},
     "output_type": "display_data"
    }
   ],
   "source": [
    "h2o.init()"
   ]
  },
  {
   "cell_type": "code",
   "execution_count": 29,
   "metadata": {},
   "outputs": [
    {
     "name": "stdout",
     "output_type": "stream",
     "text": [
      "Parse progress: |█████████████████████████████████████████████████████████| 100%\n",
      "Parse progress: |█████████████████████████████████████████████████████████| 100%\n",
      "Parse progress: |█████████████████████████████████████████████████████████| 100%\n",
      "Parse progress: |█████████████████████████████████████████████████████████| 100%\n"
     ]
    }
   ],
   "source": [
    "hf_X = h2o.H2OFrame(X)\n",
    "hf_y = h2o.H2OFrame(y)\n",
    "hf_X_test = h2o.H2OFrame(X_test)\n",
    "hf_y_test = h2o.H2OFrame(y_test)\n",
    "hf_y = hf_y.asfactor()\n",
    "hf_y_test = hf_y_test.asfactor()\n",
    "hf = hf_X.cbind(hf_y)"
   ]
  },
  {
   "cell_type": "code",
   "execution_count": 30,
   "metadata": {
    "scrolled": false
   },
   "outputs": [
    {
     "name": "stdout",
     "output_type": "stream",
     "text": [
      "glm Model Build progress: |███████████████████████████████████████████████| 100%\n",
      "0.44748449325561523\n"
     ]
    }
   ],
   "source": [
    "h2olr = H2OGeneralizedLinearEstimator(family = 'binomial')\n",
    "start = time.time()\n",
    "h2olr.train(x=['C1','C2', 'C3', 'C4'] ,y='C10', training_frame=hf)\n",
    "print(time.time()- start)"
   ]
  },
  {
   "cell_type": "code",
   "execution_count": 31,
   "metadata": {},
   "outputs": [
    {
     "name": "stdout",
     "output_type": "stream",
     "text": [
      "glm prediction progress: |████████████████████████████████████████████████| 100%\n"
     ]
    }
   ],
   "source": [
    "hf_predict = h2olr.predict(hf_X_test)"
   ]
  },
  {
   "cell_type": "code",
   "execution_count": 32,
   "metadata": {},
   "outputs": [
    {
     "data": {
      "text/html": [
       "<table>\n",
       "<thead>\n",
       "<tr><th style=\"text-align: right;\">  predict</th><th style=\"text-align: right;\">      p0</th><th style=\"text-align: right;\">         p1</th></tr>\n",
       "</thead>\n",
       "<tbody>\n",
       "<tr><td style=\"text-align: right;\">        0</td><td style=\"text-align: right;\">0.99894 </td><td style=\"text-align: right;\">0.00105951 </td></tr>\n",
       "<tr><td style=\"text-align: right;\">        0</td><td style=\"text-align: right;\">0.945188</td><td style=\"text-align: right;\">0.054812   </td></tr>\n",
       "<tr><td style=\"text-align: right;\">        0</td><td style=\"text-align: right;\">0.99902 </td><td style=\"text-align: right;\">0.000979667</td></tr>\n",
       "<tr><td style=\"text-align: right;\">        0</td><td style=\"text-align: right;\">0.993391</td><td style=\"text-align: right;\">0.00660907 </td></tr>\n",
       "<tr><td style=\"text-align: right;\">        0</td><td style=\"text-align: right;\">0.998349</td><td style=\"text-align: right;\">0.0016513  </td></tr>\n",
       "<tr><td style=\"text-align: right;\">        0</td><td style=\"text-align: right;\">0.993288</td><td style=\"text-align: right;\">0.00671188 </td></tr>\n",
       "<tr><td style=\"text-align: right;\">        0</td><td style=\"text-align: right;\">0.999591</td><td style=\"text-align: right;\">0.000408773</td></tr>\n",
       "<tr><td style=\"text-align: right;\">        0</td><td style=\"text-align: right;\">0.998476</td><td style=\"text-align: right;\">0.00152446 </td></tr>\n",
       "<tr><td style=\"text-align: right;\">        0</td><td style=\"text-align: right;\">0.999336</td><td style=\"text-align: right;\">0.000664274</td></tr>\n",
       "<tr><td style=\"text-align: right;\">        0</td><td style=\"text-align: right;\">0.99823 </td><td style=\"text-align: right;\">0.00176956 </td></tr>\n",
       "</tbody>\n",
       "</table>"
      ]
     },
     "metadata": {},
     "output_type": "display_data"
    },
    {
     "data": {
      "text/plain": []
     },
     "execution_count": 32,
     "metadata": {},
     "output_type": "execute_result"
    }
   ],
   "source": [
    "hf_predict.head(10)"
   ]
  },
  {
   "cell_type": "code",
   "execution_count": 33,
   "metadata": {},
   "outputs": [
    {
     "data": {
      "text/html": [
       "<table>\n",
       "<thead>\n",
       "<tr><th style=\"text-align: right;\">  predict</th><th style=\"text-align: right;\">         p0</th><th style=\"text-align: right;\">      p1</th></tr>\n",
       "</thead>\n",
       "<tbody>\n",
       "<tr><td style=\"text-align: right;\">        1</td><td style=\"text-align: right;\">0.00129041 </td><td style=\"text-align: right;\">0.99871 </td></tr>\n",
       "<tr><td style=\"text-align: right;\">        1</td><td style=\"text-align: right;\">0.000803543</td><td style=\"text-align: right;\">0.999196</td></tr>\n",
       "<tr><td style=\"text-align: right;\">        1</td><td style=\"text-align: right;\">0.00172183 </td><td style=\"text-align: right;\">0.998278</td></tr>\n",
       "<tr><td style=\"text-align: right;\">        1</td><td style=\"text-align: right;\">0.0125786  </td><td style=\"text-align: right;\">0.987421</td></tr>\n",
       "<tr><td style=\"text-align: right;\">        1</td><td style=\"text-align: right;\">0.00151788 </td><td style=\"text-align: right;\">0.998482</td></tr>\n",
       "<tr><td style=\"text-align: right;\">        1</td><td style=\"text-align: right;\">0.00658678 </td><td style=\"text-align: right;\">0.993413</td></tr>\n",
       "<tr><td style=\"text-align: right;\">        1</td><td style=\"text-align: right;\">0.00288749 </td><td style=\"text-align: right;\">0.997113</td></tr>\n",
       "<tr><td style=\"text-align: right;\">        1</td><td style=\"text-align: right;\">0.00124    </td><td style=\"text-align: right;\">0.99876 </td></tr>\n",
       "<tr><td style=\"text-align: right;\">        0</td><td style=\"text-align: right;\">0.025639   </td><td style=\"text-align: right;\">0.974361</td></tr>\n",
       "<tr><td style=\"text-align: right;\">        1</td><td style=\"text-align: right;\">0.0023271  </td><td style=\"text-align: right;\">0.997673</td></tr>\n",
       "</tbody>\n",
       "</table>"
      ]
     },
     "metadata": {},
     "output_type": "display_data"
    },
    {
     "data": {
      "text/plain": []
     },
     "execution_count": 33,
     "metadata": {},
     "output_type": "execute_result"
    }
   ],
   "source": [
    "hf_predict.tail(10)"
   ]
  },
  {
   "cell_type": "code",
   "execution_count": 34,
   "metadata": {},
   "outputs": [
    {
     "name": "stdout",
     "output_type": "stream",
     "text": [
      "H2O session _sid_b969 closed.\n"
     ]
    }
   ],
   "source": [
    "h2o.cluster().shutdown()"
   ]
  },
  {
   "cell_type": "code",
   "execution_count": null,
   "metadata": {
    "collapsed": true
   },
   "outputs": [],
   "source": []
  }
 ],
 "metadata": {
  "kernelspec": {
   "display_name": "Python 3",
   "language": "python",
   "name": "python3"
  },
  "language_info": {
   "codemirror_mode": {
    "name": "ipython",
    "version": 3
   },
   "file_extension": ".py",
   "mimetype": "text/x-python",
   "name": "python",
   "nbconvert_exporter": "python",
   "pygments_lexer": "ipython3",
   "version": "3.6.1"
  }
 },
 "nbformat": 4,
 "nbformat_minor": 2
}
